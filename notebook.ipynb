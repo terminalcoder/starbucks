{
 "cells": [
  {
   "cell_type": "markdown",
   "id": "48c6da79",
   "metadata": {},
   "source": [
    "# Used Car Auction Sales\n",
    "\n",
    "Elimelech Berlin  \n",
    "January 2024"
   ]
  },
  {
   "cell_type": "markdown",
   "id": "9d7e9903",
   "metadata": {},
   "source": [
    "## Context"
   ]
  },
  {
   "cell_type": "markdown",
   "id": "12dbe414",
   "metadata": {},
   "source": [
    "## Data"
   ]
  },
  {
   "cell_type": "markdown",
   "id": "c77ddc06",
   "metadata": {},
   "source": [
    "## EDA"
   ]
  },
  {
   "cell_type": "markdown",
   "id": "6faa2fbf",
   "metadata": {},
   "source": [
    "Imports:"
   ]
  },
  {
   "cell_type": "code",
   "execution_count": 1,
   "id": "dd2898ed",
   "metadata": {},
   "outputs": [],
   "source": [
    "import pandas as pd\n",
    "from datetime import date, time, datetime"
   ]
  },
  {
   "cell_type": "markdown",
   "id": "81864768",
   "metadata": {},
   "source": [
    "Load the data:\n",
    "(While running `pd.read_csv('data/car_prices.csv')`, this error was raised: 'ParserError: Error tokenizing data. C error: Expected 16 fields in line 408163, saw 17'). To fix the issue causing this, I examined the file in Notepad & found an error (extra comma in original csv file. So I edited it manually.)"
   ]
  },
  {
   "cell_type": "code",
   "execution_count": 2,
   "id": "55444efd",
   "metadata": {},
   "outputs": [
    {
     "name": "stderr",
     "output_type": "stream",
     "text": [
      "Skipping line 408163: expected 16 fields, saw 17\n",
      "Skipping line 417837: expected 16 fields, saw 17\n",
      "Skipping line 421291: expected 16 fields, saw 17\n",
      "Skipping line 424163: expected 16 fields, saw 17\n",
      "\n",
      "Skipping line 427042: expected 16 fields, saw 17\n",
      "Skipping line 427045: expected 16 fields, saw 17\n",
      "Skipping line 434426: expected 16 fields, saw 17\n",
      "Skipping line 444503: expected 16 fields, saw 17\n",
      "Skipping line 453796: expected 16 fields, saw 17\n",
      "\n",
      "Skipping line 461599: expected 16 fields, saw 17\n",
      "Skipping line 461614: expected 16 fields, saw 17\n",
      "\n",
      "Skipping line 492486: expected 16 fields, saw 17\n",
      "Skipping line 497010: expected 16 fields, saw 17\n",
      "Skipping line 497013: expected 16 fields, saw 17\n",
      "Skipping line 499085: expected 16 fields, saw 17\n",
      "Skipping line 501457: expected 16 fields, saw 17\n",
      "Skipping line 505301: expected 16 fields, saw 17\n",
      "Skipping line 505308: expected 16 fields, saw 17\n",
      "Skipping line 520463: expected 16 fields, saw 17\n",
      "\n",
      "Skipping line 528998: expected 16 fields, saw 17\n",
      "Skipping line 529011: expected 16 fields, saw 17\n",
      "Skipping line 529015: expected 16 fields, saw 17\n",
      "Skipping line 529624: expected 16 fields, saw 17\n",
      "Skipping line 548786: expected 16 fields, saw 17\n",
      "Skipping line 551224: expected 16 fields, saw 17\n",
      "Skipping line 554712: expected 16 fields, saw 17\n",
      "\n",
      "C:\\Users\\melec\\AppData\\Local\\Temp\\ipykernel_18164\\1126926176.py:2: DtypeWarning: Columns (9,14) have mixed types. Specify dtype option on import or set low_memory=False.\n",
      "  df = pd.read_csv('data/car_prices.csv', on_bad_lines='warn')\n"
     ]
    }
   ],
   "source": [
    "# load csv file into a dataframe, raise a warning when rows cannot be loaded\n",
    "df = pd.read_csv('data/car_prices.csv', on_bad_lines='warn')"
   ]
  },
  {
   "cell_type": "markdown",
   "id": "d64da992",
   "metadata": {},
   "source": [
    "> ~ 25 rows are dropped from the data\n",
    "\n",
    "Let's have a look at the shape of the data:"
   ]
  },
  {
   "cell_type": "code",
   "execution_count": 3,
   "id": "e277c999",
   "metadata": {},
   "outputs": [
    {
     "data": {
      "text/plain": [
       "(558811, 16)"
      ]
     },
     "execution_count": 3,
     "metadata": {},
     "output_type": "execute_result"
    }
   ],
   "source": [
    "df.shape"
   ]
  },
  {
   "cell_type": "markdown",
   "id": "b2ddf601",
   "metadata": {},
   "source": [
    "> There are 550k+ records describeed by 16 columns/features.\n",
    "\n",
    "To gain further understanding of the data, view colunm names & the first few rows of the data:"
   ]
  },
  {
   "cell_type": "code",
   "execution_count": 4,
   "id": "e8b3d7ba",
   "metadata": {},
   "outputs": [
    {
     "data": {
      "text/plain": [
       "Index(['year', 'make', 'model', 'trim', 'body', 'transmission', 'vin', 'state',\n",
       "       'condition', 'odometer', 'color', 'interior', 'seller', 'mmr',\n",
       "       'sellingprice', 'saledate'],\n",
       "      dtype='object')"
      ]
     },
     "execution_count": 4,
     "metadata": {},
     "output_type": "execute_result"
    }
   ],
   "source": [
    "df.columns"
   ]
  },
  {
   "cell_type": "code",
   "execution_count": 5,
   "id": "42830bff",
   "metadata": {},
   "outputs": [
    {
     "data": {
      "text/html": [
       "<div>\n",
       "<style scoped>\n",
       "    .dataframe tbody tr th:only-of-type {\n",
       "        vertical-align: middle;\n",
       "    }\n",
       "\n",
       "    .dataframe tbody tr th {\n",
       "        vertical-align: top;\n",
       "    }\n",
       "\n",
       "    .dataframe thead th {\n",
       "        text-align: right;\n",
       "    }\n",
       "</style>\n",
       "<table border=\"1\" class=\"dataframe\">\n",
       "  <thead>\n",
       "    <tr style=\"text-align: right;\">\n",
       "      <th></th>\n",
       "      <th>year</th>\n",
       "      <th>make</th>\n",
       "      <th>model</th>\n",
       "      <th>trim</th>\n",
       "      <th>body</th>\n",
       "      <th>transmission</th>\n",
       "      <th>vin</th>\n",
       "      <th>state</th>\n",
       "      <th>condition</th>\n",
       "      <th>odometer</th>\n",
       "      <th>color</th>\n",
       "      <th>interior</th>\n",
       "      <th>seller</th>\n",
       "      <th>mmr</th>\n",
       "      <th>sellingprice</th>\n",
       "      <th>saledate</th>\n",
       "    </tr>\n",
       "  </thead>\n",
       "  <tbody>\n",
       "    <tr>\n",
       "      <th>0</th>\n",
       "      <td>2015</td>\n",
       "      <td>Kia</td>\n",
       "      <td>Sorento</td>\n",
       "      <td>LX</td>\n",
       "      <td>SUV</td>\n",
       "      <td>automatic</td>\n",
       "      <td>5xyktca69fg566472</td>\n",
       "      <td>ca</td>\n",
       "      <td>5.0</td>\n",
       "      <td>16639.0</td>\n",
       "      <td>white</td>\n",
       "      <td>black</td>\n",
       "      <td>kia motors america, inc</td>\n",
       "      <td>20500</td>\n",
       "      <td>21500</td>\n",
       "      <td>Tue Dec 16 2014 12:30:00 GMT-0800 (PST)</td>\n",
       "    </tr>\n",
       "    <tr>\n",
       "      <th>1</th>\n",
       "      <td>2015</td>\n",
       "      <td>Kia</td>\n",
       "      <td>Sorento</td>\n",
       "      <td>LX</td>\n",
       "      <td>SUV</td>\n",
       "      <td>automatic</td>\n",
       "      <td>5xyktca69fg561319</td>\n",
       "      <td>ca</td>\n",
       "      <td>5.0</td>\n",
       "      <td>9393.0</td>\n",
       "      <td>white</td>\n",
       "      <td>beige</td>\n",
       "      <td>kia motors america, inc</td>\n",
       "      <td>20800</td>\n",
       "      <td>21500</td>\n",
       "      <td>Tue Dec 16 2014 12:30:00 GMT-0800 (PST)</td>\n",
       "    </tr>\n",
       "    <tr>\n",
       "      <th>2</th>\n",
       "      <td>2014</td>\n",
       "      <td>BMW</td>\n",
       "      <td>3 Series</td>\n",
       "      <td>328i SULEV</td>\n",
       "      <td>Sedan</td>\n",
       "      <td>automatic</td>\n",
       "      <td>wba3c1c51ek116351</td>\n",
       "      <td>ca</td>\n",
       "      <td>4.5</td>\n",
       "      <td>1331.0</td>\n",
       "      <td>gray</td>\n",
       "      <td>black</td>\n",
       "      <td>financial services remarketing (lease)</td>\n",
       "      <td>31900</td>\n",
       "      <td>30000</td>\n",
       "      <td>Thu Jan 15 2015 04:30:00 GMT-0800 (PST)</td>\n",
       "    </tr>\n",
       "    <tr>\n",
       "      <th>3</th>\n",
       "      <td>2015</td>\n",
       "      <td>Volvo</td>\n",
       "      <td>S60</td>\n",
       "      <td>T5</td>\n",
       "      <td>Sedan</td>\n",
       "      <td>automatic</td>\n",
       "      <td>yv1612tb4f1310987</td>\n",
       "      <td>ca</td>\n",
       "      <td>4.1</td>\n",
       "      <td>14282.0</td>\n",
       "      <td>white</td>\n",
       "      <td>black</td>\n",
       "      <td>volvo na rep/world omni</td>\n",
       "      <td>27500</td>\n",
       "      <td>27750</td>\n",
       "      <td>Thu Jan 29 2015 04:30:00 GMT-0800 (PST)</td>\n",
       "    </tr>\n",
       "    <tr>\n",
       "      <th>4</th>\n",
       "      <td>2014</td>\n",
       "      <td>BMW</td>\n",
       "      <td>6 Series Gran Coupe</td>\n",
       "      <td>650i</td>\n",
       "      <td>Sedan</td>\n",
       "      <td>automatic</td>\n",
       "      <td>wba6b2c57ed129731</td>\n",
       "      <td>ca</td>\n",
       "      <td>4.3</td>\n",
       "      <td>2641.0</td>\n",
       "      <td>gray</td>\n",
       "      <td>black</td>\n",
       "      <td>financial services remarketing (lease)</td>\n",
       "      <td>66000</td>\n",
       "      <td>67000</td>\n",
       "      <td>Thu Dec 18 2014 12:30:00 GMT-0800 (PST)</td>\n",
       "    </tr>\n",
       "  </tbody>\n",
       "</table>\n",
       "</div>"
      ],
      "text/plain": [
       "   year   make                model        trim   body transmission  \\\n",
       "0  2015    Kia              Sorento          LX    SUV    automatic   \n",
       "1  2015    Kia              Sorento          LX    SUV    automatic   \n",
       "2  2014    BMW             3 Series  328i SULEV  Sedan    automatic   \n",
       "3  2015  Volvo                  S60          T5  Sedan    automatic   \n",
       "4  2014    BMW  6 Series Gran Coupe        650i  Sedan    automatic   \n",
       "\n",
       "                 vin state  condition odometer  color interior  \\\n",
       "0  5xyktca69fg566472    ca        5.0  16639.0  white    black   \n",
       "1  5xyktca69fg561319    ca        5.0   9393.0  white    beige   \n",
       "2  wba3c1c51ek116351    ca        4.5   1331.0   gray    black   \n",
       "3  yv1612tb4f1310987    ca        4.1  14282.0  white    black   \n",
       "4  wba6b2c57ed129731    ca        4.3   2641.0   gray    black   \n",
       "\n",
       "                                   seller    mmr sellingprice  \\\n",
       "0                 kia motors america, inc  20500        21500   \n",
       "1                 kia motors america, inc  20800        21500   \n",
       "2  financial services remarketing (lease)  31900        30000   \n",
       "3                 volvo na rep/world omni  27500        27750   \n",
       "4  financial services remarketing (lease)  66000        67000   \n",
       "\n",
       "                                  saledate  \n",
       "0  Tue Dec 16 2014 12:30:00 GMT-0800 (PST)  \n",
       "1  Tue Dec 16 2014 12:30:00 GMT-0800 (PST)  \n",
       "2  Thu Jan 15 2015 04:30:00 GMT-0800 (PST)  \n",
       "3  Thu Jan 29 2015 04:30:00 GMT-0800 (PST)  \n",
       "4  Thu Dec 18 2014 12:30:00 GMT-0800 (PST)  "
      ]
     },
     "execution_count": 5,
     "metadata": {},
     "output_type": "execute_result"
    }
   ],
   "source": [
    "df.head()"
   ]
  },
  {
   "cell_type": "markdown",
   "id": "fba00202",
   "metadata": {},
   "source": [
    "> What most of the columns describe is self explanatory. Nearly all of the columns describe features that are relevant to our analysis, even the VIN is relevant, as some of the information encoded in it may affect vehicle price. (That information will be extracted & a new column created for it.) 'Seller' may be dropped as that will be diffucult, if not impossible to extract meaningful insight from it. Saledate may prove useful, as seasonality (month), day of week & time of day may play a role in the saleprice, however, that column must divided into several different features.\n",
    "\n",
    "Now, let's drop 'Seller' column:"
   ]
  },
  {
   "cell_type": "code",
   "execution_count": 6,
   "id": "acfb4d37",
   "metadata": {},
   "outputs": [],
   "source": [
    "df.drop(['seller'], axis=1, inplace=True)"
   ]
  },
  {
   "cell_type": "markdown",
   "id": "2988bd87",
   "metadata": {},
   "source": [
    "With the irrelevant column removed, we can proceed with cleaning & prepping the data. First, check for missing values:"
   ]
  },
  {
   "cell_type": "code",
   "execution_count": 7,
   "id": "66a39f92",
   "metadata": {},
   "outputs": [
    {
     "data": {
      "text/plain": [
       "year                0\n",
       "make            10301\n",
       "model           10399\n",
       "trim            10651\n",
       "body            13195\n",
       "transmission    65352\n",
       "vin                 0\n",
       "state               0\n",
       "condition       11794\n",
       "odometer           94\n",
       "color             749\n",
       "interior          749\n",
       "mmr                 0\n",
       "sellingprice        0\n",
       "saledate            1\n",
       "dtype: int64"
      ]
     },
     "execution_count": 7,
     "metadata": {},
     "output_type": "execute_result"
    }
   ],
   "source": [
    "df.isna().sum()"
   ]
  },
  {
   "cell_type": "markdown",
   "id": "5051d391",
   "metadata": {},
   "source": [
    "> There are several columns missing 10k+ values: make, model, trim, body, transmission, condition. Let's investigate this further by investigating if the above missing values are present in the same rows:"
   ]
  },
  {
   "cell_type": "code",
   "execution_count": 8,
   "id": "f961bc07",
   "metadata": {},
   "outputs": [
    {
     "data": {
      "text/plain": [
       "year                0\n",
       "make            10301\n",
       "model           10301\n",
       "trim            10301\n",
       "body            10301\n",
       "transmission     1761\n",
       "vin                 0\n",
       "state               0\n",
       "condition          87\n",
       "odometer            4\n",
       "color              15\n",
       "interior           15\n",
       "mmr                 0\n",
       "sellingprice        0\n",
       "saledate            0\n",
       "dtype: int64"
      ]
     },
     "execution_count": 8,
     "metadata": {},
     "output_type": "execute_result"
    }
   ],
   "source": [
    "df[df['make'].isna()].isna().sum()"
   ]
  },
  {
   "cell_type": "markdown",
   "id": "22edb60a",
   "metadata": {},
   "source": [
    "> We see many rows are missing information in several colmns. The missing information is likely essential to our undersstanding of what drives value for the vehicles & we can't learn enough info without it. Although some of the missing information can be derived from VINs of those cars, we will drop those records from the dataframe & exclude them from this analysis."
   ]
  },
  {
   "cell_type": "code",
   "execution_count": 9,
   "id": "7320897c",
   "metadata": {},
   "outputs": [],
   "source": [
    "# create new dataframe without null values\n",
    "df2 = df.dropna().reset_index()"
   ]
  },
  {
   "cell_type": "markdown",
   "id": "16178a72",
   "metadata": {},
   "source": [
    "Let's now have a look at the datatypes present in the dataset:"
   ]
  },
  {
   "cell_type": "code",
   "execution_count": 10,
   "id": "93b67de5",
   "metadata": {},
   "outputs": [
    {
     "data": {
      "text/plain": [
       "index             int64\n",
       "year              int64\n",
       "make             object\n",
       "model            object\n",
       "trim             object\n",
       "body             object\n",
       "transmission     object\n",
       "vin              object\n",
       "state            object\n",
       "condition       float64\n",
       "odometer         object\n",
       "color            object\n",
       "interior         object\n",
       "mmr               int64\n",
       "sellingprice     object\n",
       "saledate         object\n",
       "dtype: object"
      ]
     },
     "execution_count": 10,
     "metadata": {},
     "output_type": "execute_result"
    }
   ],
   "source": [
    "df2.dtypes"
   ]
  },
  {
   "cell_type": "markdown",
   "id": "63fd7bdd",
   "metadata": {},
   "source": [
    "> Several columns are present in the wrong data type: odometer, selling price & saledate. Of those 3, saledate is the only one that will not be transformed to numeric dtype, it will be changed to datetime.  \n",
    "\n",
    "To deal with these columns, lets's begin with column 'odometer'. Examine individual values to learn if the entire column is non-numeric (which can be addresed by a simple transformation of dtype) or if there are problems with specific values:"
   ]
  },
  {
   "cell_type": "code",
   "execution_count": 11,
   "id": "2d155637",
   "metadata": {},
   "outputs": [
    {
     "data": {
      "text/plain": [
       "float"
      ]
     },
     "execution_count": 11,
     "metadata": {},
     "output_type": "execute_result"
    }
   ],
   "source": [
    "type(df2.iloc[22265]['odometer'])"
   ]
  },
  {
   "cell_type": "markdown",
   "id": "8ad3be53",
   "metadata": {},
   "source": [
    "> The above output shows that there are numeric-types present in the column, which indicates that non-numeric dtypes are likely a result of incorrectly saved values. To deal with this, first attempt to simply change the datatype:"
   ]
  },
  {
   "cell_type": "code",
   "execution_count": 12,
   "id": "431e8a3a",
   "metadata": {},
   "outputs": [],
   "source": [
    "df2['odometer'] = pd.to_numeric(df2['odometer'])"
   ]
  },
  {
   "cell_type": "code",
   "execution_count": 13,
   "id": "059cc6b1",
   "metadata": {},
   "outputs": [
    {
     "data": {
      "text/plain": [
       "dtype('float64')"
      ]
     },
     "execution_count": 13,
     "metadata": {},
     "output_type": "execute_result"
    }
   ],
   "source": [
    "df2.odometer.dtypes"
   ]
  },
  {
   "cell_type": "markdown",
   "id": "415cbf4f",
   "metadata": {},
   "source": [
    "> That seems to have solved the problem, as everything was converted without any errors.\n",
    "\n",
    "Now, let's attempt the same solution for sellingprice:"
   ]
  },
  {
   "cell_type": "code",
   "execution_count": 14,
   "id": "7a2ddc0a",
   "metadata": {},
   "outputs": [],
   "source": [
    "df2['sellingprice'] = pd.to_numeric(df2['sellingprice'])"
   ]
  },
  {
   "cell_type": "code",
   "execution_count": 15,
   "id": "3d76c8b8",
   "metadata": {},
   "outputs": [
    {
     "data": {
      "text/plain": [
       "dtype('int64')"
      ]
     },
     "execution_count": 15,
     "metadata": {},
     "output_type": "execute_result"
    }
   ],
   "source": [
    "df2.sellingprice.dtypes"
   ]
  },
  {
   "cell_type": "markdown",
   "id": "975122d7",
   "metadata": {},
   "source": [
    "> With the numeric type columns succesfully converted, let's transform the 'saledate' column to datetime-like type.\n",
    "\n",
    "First, view dtypes present in the column, & then view an example:"
   ]
  },
  {
   "cell_type": "code",
   "execution_count": 16,
   "id": "0b0e047d",
   "metadata": {},
   "outputs": [
    {
     "data": {
      "text/plain": [
       "dtype('O')"
      ]
     },
     "execution_count": 16,
     "metadata": {},
     "output_type": "execute_result"
    }
   ],
   "source": [
    "# view datatypes present in the column\n",
    "df2.saledate.dtypes"
   ]
  },
  {
   "cell_type": "markdown",
   "id": "b5d39212",
   "metadata": {},
   "source": [
    "> That worked without a problem.\n",
    "\n",
    "Proceed to replace the original column with a transformed version. To correctly format the format string used as an argument to the datetime.strptime method, preview the saletime value for one of the rows:"
   ]
  },
  {
   "cell_type": "code",
   "execution_count": 17,
   "id": "7d1803c6",
   "metadata": {
    "scrolled": true
   },
   "outputs": [
    {
     "name": "stdout",
     "output_type": "stream",
     "text": [
      "Thu Jan 22 2015 06:30:00 GMT-0800 (PST)\n"
     ]
    },
    {
     "data": {
      "text/plain": [
       "str"
      ]
     },
     "execution_count": 17,
     "metadata": {},
     "output_type": "execute_result"
    }
   ],
   "source": [
    "print(df2['saledate'][26846])\n",
    "type(df2['saledate'][26846])"
   ]
  },
  {
   "cell_type": "markdown",
   "id": "8898629c",
   "metadata": {},
   "source": [
    "> The above output shows that the data in saledate is a string. Let's proceed to transform it to a datetime object:"
   ]
  },
  {
   "cell_type": "code",
   "execution_count": 18,
   "id": "a227c337",
   "metadata": {},
   "outputs": [],
   "source": [
    "df2['saledate'] = [datetime.strptime(d.replace(' (PST)', '').replace(' (PDT)', ''), \"%a %b %d %Y %H:%M:%S GMT%z\") for d in df2['saledate']]"
   ]
  },
  {
   "cell_type": "markdown",
   "id": "7bedee19",
   "metadata": {},
   "source": [
    "Now, iterate through every saledate to ensure correct transformation:"
   ]
  },
  {
   "cell_type": "code",
   "execution_count": 19,
   "id": "3a690e93",
   "metadata": {},
   "outputs": [],
   "source": [
    "for i in df2.index:\n",
    "    if not isinstance(df2['saledate'][i], datetime):\n",
    "        print(type(df2['saledate'][i]))"
   ]
  },
  {
   "cell_type": "markdown",
   "id": "a77fa983",
   "metadata": {},
   "source": [
    "Let's check for duplicated rows. Although there may be some redundancy in column 'vin', this may result from multiple sales for a single vehicle."
   ]
  },
  {
   "cell_type": "code",
   "execution_count": 20,
   "id": "0371adc1",
   "metadata": {},
   "outputs": [
    {
     "data": {
      "text/plain": [
       "6557"
      ]
     },
     "execution_count": 20,
     "metadata": {},
     "output_type": "execute_result"
    }
   ],
   "source": [
    "df2.duplicated(subset='vin').sum()"
   ]
  },
  {
   "cell_type": "markdown",
   "id": "fc46f44f",
   "metadata": {},
   "source": [
    "> There are a number of vehicles listed more than once. This may not be an issue with redundant information, as a single vehicle may have been sold multiple times. To investigate this, let's view some of the duplicates & than check if all columns are duplicated:"
   ]
  },
  {
   "cell_type": "code",
   "execution_count": 21,
   "id": "dc90fbc6",
   "metadata": {},
   "outputs": [
    {
     "data": {
      "text/html": [
       "<div>\n",
       "<style scoped>\n",
       "    .dataframe tbody tr th:only-of-type {\n",
       "        vertical-align: middle;\n",
       "    }\n",
       "\n",
       "    .dataframe tbody tr th {\n",
       "        vertical-align: top;\n",
       "    }\n",
       "\n",
       "    .dataframe thead th {\n",
       "        text-align: right;\n",
       "    }\n",
       "</style>\n",
       "<table border=\"1\" class=\"dataframe\">\n",
       "  <thead>\n",
       "    <tr style=\"text-align: right;\">\n",
       "      <th></th>\n",
       "      <th>index</th>\n",
       "      <th>year</th>\n",
       "      <th>make</th>\n",
       "      <th>model</th>\n",
       "      <th>trim</th>\n",
       "      <th>body</th>\n",
       "      <th>transmission</th>\n",
       "      <th>vin</th>\n",
       "      <th>state</th>\n",
       "      <th>condition</th>\n",
       "      <th>odometer</th>\n",
       "      <th>color</th>\n",
       "      <th>interior</th>\n",
       "      <th>mmr</th>\n",
       "      <th>sellingprice</th>\n",
       "      <th>saledate</th>\n",
       "    </tr>\n",
       "  </thead>\n",
       "  <tbody>\n",
       "    <tr>\n",
       "      <th>178324</th>\n",
       "      <td>218119</td>\n",
       "      <td>2000</td>\n",
       "      <td>Acura</td>\n",
       "      <td>TL</td>\n",
       "      <td>3.2</td>\n",
       "      <td>Sedan</td>\n",
       "      <td>automatic</td>\n",
       "      <td>19uua5663ya022038</td>\n",
       "      <td>fl</td>\n",
       "      <td>1.9</td>\n",
       "      <td>105431.0</td>\n",
       "      <td>gold</td>\n",
       "      <td>tan</td>\n",
       "      <td>2325</td>\n",
       "      <td>1000</td>\n",
       "      <td>2015-01-27 10:00:00-08:00</td>\n",
       "    </tr>\n",
       "    <tr>\n",
       "      <th>31978</th>\n",
       "      <td>49021</td>\n",
       "      <td>2000</td>\n",
       "      <td>Acura</td>\n",
       "      <td>TL</td>\n",
       "      <td>3.2</td>\n",
       "      <td>Sedan</td>\n",
       "      <td>automatic</td>\n",
       "      <td>19uua5663ya022038</td>\n",
       "      <td>fl</td>\n",
       "      <td>1.9</td>\n",
       "      <td>105420.0</td>\n",
       "      <td>gold</td>\n",
       "      <td>beige</td>\n",
       "      <td>2150</td>\n",
       "      <td>1100</td>\n",
       "      <td>2014-12-23 12:15:00-08:00</td>\n",
       "    </tr>\n",
       "    <tr>\n",
       "      <th>128236</th>\n",
       "      <td>160618</td>\n",
       "      <td>2006</td>\n",
       "      <td>Acura</td>\n",
       "      <td>TL</td>\n",
       "      <td>Base</td>\n",
       "      <td>Sedan</td>\n",
       "      <td>manual</td>\n",
       "      <td>19uua65596a059705</td>\n",
       "      <td>nj</td>\n",
       "      <td>2.6</td>\n",
       "      <td>89661.0</td>\n",
       "      <td>white</td>\n",
       "      <td>brown</td>\n",
       "      <td>9025</td>\n",
       "      <td>8200</td>\n",
       "      <td>2015-01-28 01:30:00-08:00</td>\n",
       "    </tr>\n",
       "    <tr>\n",
       "      <th>289231</th>\n",
       "      <td>344335</td>\n",
       "      <td>2006</td>\n",
       "      <td>Acura</td>\n",
       "      <td>TL</td>\n",
       "      <td>Base</td>\n",
       "      <td>Sedan</td>\n",
       "      <td>manual</td>\n",
       "      <td>19uua65596a059705</td>\n",
       "      <td>nj</td>\n",
       "      <td>2.5</td>\n",
       "      <td>89741.0</td>\n",
       "      <td>white</td>\n",
       "      <td>black</td>\n",
       "      <td>9100</td>\n",
       "      <td>8500</td>\n",
       "      <td>2015-03-04 01:30:00-08:00</td>\n",
       "    </tr>\n",
       "    <tr>\n",
       "      <th>150649</th>\n",
       "      <td>186392</td>\n",
       "      <td>2005</td>\n",
       "      <td>Acura</td>\n",
       "      <td>TL</td>\n",
       "      <td>3.2</td>\n",
       "      <td>Sedan</td>\n",
       "      <td>automatic</td>\n",
       "      <td>19uua66215a070166</td>\n",
       "      <td>ca</td>\n",
       "      <td>3.7</td>\n",
       "      <td>131727.0</td>\n",
       "      <td>silver</td>\n",
       "      <td>gray</td>\n",
       "      <td>6600</td>\n",
       "      <td>6900</td>\n",
       "      <td>2015-01-22 04:00:00-08:00</td>\n",
       "    </tr>\n",
       "    <tr>\n",
       "      <th>...</th>\n",
       "      <td>...</td>\n",
       "      <td>...</td>\n",
       "      <td>...</td>\n",
       "      <td>...</td>\n",
       "      <td>...</td>\n",
       "      <td>...</td>\n",
       "      <td>...</td>\n",
       "      <td>...</td>\n",
       "      <td>...</td>\n",
       "      <td>...</td>\n",
       "      <td>...</td>\n",
       "      <td>...</td>\n",
       "      <td>...</td>\n",
       "      <td>...</td>\n",
       "      <td>...</td>\n",
       "      <td>...</td>\n",
       "    </tr>\n",
       "    <tr>\n",
       "      <th>209261</th>\n",
       "      <td>253325</td>\n",
       "      <td>2006</td>\n",
       "      <td>Maserati</td>\n",
       "      <td>Quattroporte</td>\n",
       "      <td>Base</td>\n",
       "      <td>Sedan</td>\n",
       "      <td>automatic</td>\n",
       "      <td>zamce39a460025306</td>\n",
       "      <td>ca</td>\n",
       "      <td>2.9</td>\n",
       "      <td>92655.0</td>\n",
       "      <td>silver</td>\n",
       "      <td>black</td>\n",
       "      <td>17250</td>\n",
       "      <td>15500</td>\n",
       "      <td>2015-02-04 04:30:00-08:00</td>\n",
       "    </tr>\n",
       "    <tr>\n",
       "      <th>166118</th>\n",
       "      <td>204238</td>\n",
       "      <td>2007</td>\n",
       "      <td>Maserati</td>\n",
       "      <td>Quattroporte</td>\n",
       "      <td>Executive GT DuoSelect</td>\n",
       "      <td>Sedan</td>\n",
       "      <td>automatic</td>\n",
       "      <td>zamce39a470026893</td>\n",
       "      <td>ca</td>\n",
       "      <td>2.7</td>\n",
       "      <td>46087.0</td>\n",
       "      <td>gray</td>\n",
       "      <td>gray</td>\n",
       "      <td>25100</td>\n",
       "      <td>23000</td>\n",
       "      <td>2015-02-10 04:30:00-08:00</td>\n",
       "    </tr>\n",
       "    <tr>\n",
       "      <th>412054</th>\n",
       "      <td>487771</td>\n",
       "      <td>2007</td>\n",
       "      <td>Maserati</td>\n",
       "      <td>Quattroporte</td>\n",
       "      <td>Executive GT DuoSelect</td>\n",
       "      <td>sedan</td>\n",
       "      <td>automatic</td>\n",
       "      <td>zamce39a470026893</td>\n",
       "      <td>ca</td>\n",
       "      <td>3.4</td>\n",
       "      <td>46128.0</td>\n",
       "      <td>gray</td>\n",
       "      <td>gray</td>\n",
       "      <td>26800</td>\n",
       "      <td>23500</td>\n",
       "      <td>2015-06-04 05:30:00-07:00</td>\n",
       "    </tr>\n",
       "    <tr>\n",
       "      <th>101745</th>\n",
       "      <td>129433</td>\n",
       "      <td>2014</td>\n",
       "      <td>FIAT</td>\n",
       "      <td>500L</td>\n",
       "      <td>Easy</td>\n",
       "      <td>Wagon</td>\n",
       "      <td>automatic</td>\n",
       "      <td>zfbcfabh4ez025834</td>\n",
       "      <td>fl</td>\n",
       "      <td>4.0</td>\n",
       "      <td>9435.0</td>\n",
       "      <td>red</td>\n",
       "      <td>gray</td>\n",
       "      <td>12600</td>\n",
       "      <td>10200</td>\n",
       "      <td>2015-02-02 04:30:00-08:00</td>\n",
       "    </tr>\n",
       "    <tr>\n",
       "      <th>350455</th>\n",
       "      <td>415069</td>\n",
       "      <td>2014</td>\n",
       "      <td>FIAT</td>\n",
       "      <td>500L</td>\n",
       "      <td>Easy</td>\n",
       "      <td>Wagon</td>\n",
       "      <td>automatic</td>\n",
       "      <td>zfbcfabh4ez025834</td>\n",
       "      <td>fl</td>\n",
       "      <td>4.7</td>\n",
       "      <td>13513.0</td>\n",
       "      <td>red</td>\n",
       "      <td>black</td>\n",
       "      <td>12300</td>\n",
       "      <td>11500</td>\n",
       "      <td>2015-06-02 02:15:00-07:00</td>\n",
       "    </tr>\n",
       "  </tbody>\n",
       "</table>\n",
       "<p>12978 rows × 16 columns</p>\n",
       "</div>"
      ],
      "text/plain": [
       "         index  year      make         model                    trim   body  \\\n",
       "178324  218119  2000     Acura            TL                     3.2  Sedan   \n",
       "31978    49021  2000     Acura            TL                     3.2  Sedan   \n",
       "128236  160618  2006     Acura            TL                    Base  Sedan   \n",
       "289231  344335  2006     Acura            TL                    Base  Sedan   \n",
       "150649  186392  2005     Acura            TL                     3.2  Sedan   \n",
       "...        ...   ...       ...           ...                     ...    ...   \n",
       "209261  253325  2006  Maserati  Quattroporte                    Base  Sedan   \n",
       "166118  204238  2007  Maserati  Quattroporte  Executive GT DuoSelect  Sedan   \n",
       "412054  487771  2007  Maserati  Quattroporte  Executive GT DuoSelect  sedan   \n",
       "101745  129433  2014      FIAT          500L                    Easy  Wagon   \n",
       "350455  415069  2014      FIAT          500L                    Easy  Wagon   \n",
       "\n",
       "       transmission                vin state  condition  odometer   color  \\\n",
       "178324    automatic  19uua5663ya022038    fl        1.9  105431.0    gold   \n",
       "31978     automatic  19uua5663ya022038    fl        1.9  105420.0    gold   \n",
       "128236       manual  19uua65596a059705    nj        2.6   89661.0   white   \n",
       "289231       manual  19uua65596a059705    nj        2.5   89741.0   white   \n",
       "150649    automatic  19uua66215a070166    ca        3.7  131727.0  silver   \n",
       "...             ...                ...   ...        ...       ...     ...   \n",
       "209261    automatic  zamce39a460025306    ca        2.9   92655.0  silver   \n",
       "166118    automatic  zamce39a470026893    ca        2.7   46087.0    gray   \n",
       "412054    automatic  zamce39a470026893    ca        3.4   46128.0    gray   \n",
       "101745    automatic  zfbcfabh4ez025834    fl        4.0    9435.0     red   \n",
       "350455    automatic  zfbcfabh4ez025834    fl        4.7   13513.0     red   \n",
       "\n",
       "       interior    mmr  sellingprice                   saledate  \n",
       "178324      tan   2325          1000  2015-01-27 10:00:00-08:00  \n",
       "31978     beige   2150          1100  2014-12-23 12:15:00-08:00  \n",
       "128236    brown   9025          8200  2015-01-28 01:30:00-08:00  \n",
       "289231    black   9100          8500  2015-03-04 01:30:00-08:00  \n",
       "150649     gray   6600          6900  2015-01-22 04:00:00-08:00  \n",
       "...         ...    ...           ...                        ...  \n",
       "209261    black  17250         15500  2015-02-04 04:30:00-08:00  \n",
       "166118     gray  25100         23000  2015-02-10 04:30:00-08:00  \n",
       "412054     gray  26800         23500  2015-06-04 05:30:00-07:00  \n",
       "101745     gray  12600         10200  2015-02-02 04:30:00-08:00  \n",
       "350455    black  12300         11500  2015-06-02 02:15:00-07:00  \n",
       "\n",
       "[12978 rows x 16 columns]"
      ]
     },
     "execution_count": 21,
     "metadata": {},
     "output_type": "execute_result"
    }
   ],
   "source": [
    "df2[df2.duplicated(subset='vin', keep=False)].sort_values(by = 'vin')"
   ]
  },
  {
   "cell_type": "markdown",
   "id": "c941070f",
   "metadata": {},
   "source": [
    "> In the above output we see several examples of rows with identical 'vin's but they are for records of different sales.\n",
    "\n",
    "Let's now check the entire dataframe for rows that are truly duplicated (i.e multiple records for the same sale.):"
   ]
  },
  {
   "cell_type": "code",
   "execution_count": 22,
   "id": "f28a5f9e",
   "metadata": {},
   "outputs": [
    {
     "data": {
      "text/plain": [
       "56"
      ]
     },
     "execution_count": 22,
     "metadata": {},
     "output_type": "execute_result"
    }
   ],
   "source": [
    "df2.duplicated(subset = ['vin', 'saledate']).sum()"
   ]
  },
  {
   "cell_type": "markdown",
   "id": "8c6cef5b",
   "metadata": {},
   "source": [
    "> The above output shows that there are a small number of rows with identical 'vin' & 'saledate'. Let's view a dataframe with those records:"
   ]
  },
  {
   "cell_type": "code",
   "execution_count": 23,
   "id": "262a0196",
   "metadata": {},
   "outputs": [
    {
     "data": {
      "text/html": [
       "<div>\n",
       "<style scoped>\n",
       "    .dataframe tbody tr th:only-of-type {\n",
       "        vertical-align: middle;\n",
       "    }\n",
       "\n",
       "    .dataframe tbody tr th {\n",
       "        vertical-align: top;\n",
       "    }\n",
       "\n",
       "    .dataframe thead th {\n",
       "        text-align: right;\n",
       "    }\n",
       "</style>\n",
       "<table border=\"1\" class=\"dataframe\">\n",
       "  <thead>\n",
       "    <tr style=\"text-align: right;\">\n",
       "      <th></th>\n",
       "      <th>index</th>\n",
       "      <th>year</th>\n",
       "      <th>make</th>\n",
       "      <th>model</th>\n",
       "      <th>trim</th>\n",
       "      <th>body</th>\n",
       "      <th>transmission</th>\n",
       "      <th>vin</th>\n",
       "      <th>state</th>\n",
       "      <th>condition</th>\n",
       "      <th>odometer</th>\n",
       "      <th>color</th>\n",
       "      <th>interior</th>\n",
       "      <th>mmr</th>\n",
       "      <th>sellingprice</th>\n",
       "      <th>saledate</th>\n",
       "    </tr>\n",
       "  </thead>\n",
       "  <tbody>\n",
       "    <tr>\n",
       "      <th>199574</th>\n",
       "      <td>242292</td>\n",
       "      <td>2012</td>\n",
       "      <td>Honda</td>\n",
       "      <td>Civic</td>\n",
       "      <td>EX-L</td>\n",
       "      <td>Sedan</td>\n",
       "      <td>automatic</td>\n",
       "      <td>19xfb2f97ce313922</td>\n",
       "      <td>md</td>\n",
       "      <td>4.4</td>\n",
       "      <td>68059.0</td>\n",
       "      <td>white</td>\n",
       "      <td>beige</td>\n",
       "      <td>11100</td>\n",
       "      <td>11600</td>\n",
       "      <td>2015-02-03 01:30:00-08:00</td>\n",
       "    </tr>\n",
       "    <tr>\n",
       "      <th>26380</th>\n",
       "      <td>42482</td>\n",
       "      <td>2012</td>\n",
       "      <td>Honda</td>\n",
       "      <td>Civic</td>\n",
       "      <td>EX-L</td>\n",
       "      <td>Sedan</td>\n",
       "      <td>automatic</td>\n",
       "      <td>19xfb2f97ce313922</td>\n",
       "      <td>md</td>\n",
       "      <td>4.0</td>\n",
       "      <td>1.0</td>\n",
       "      <td>white</td>\n",
       "      <td>beige</td>\n",
       "      <td>14150</td>\n",
       "      <td>3900</td>\n",
       "      <td>2015-02-03 01:30:00-08:00</td>\n",
       "    </tr>\n",
       "    <tr>\n",
       "      <th>12625</th>\n",
       "      <td>17667</td>\n",
       "      <td>2007</td>\n",
       "      <td>Dodge</td>\n",
       "      <td>Caliber</td>\n",
       "      <td>SXT</td>\n",
       "      <td>Wagon</td>\n",
       "      <td>automatic</td>\n",
       "      <td>1b3hb48bx7d113596</td>\n",
       "      <td>ga</td>\n",
       "      <td>2.0</td>\n",
       "      <td>1.0</td>\n",
       "      <td>red</td>\n",
       "      <td>gray</td>\n",
       "      <td>5100</td>\n",
       "      <td>2300</td>\n",
       "      <td>2015-01-22 04:30:00-08:00</td>\n",
       "    </tr>\n",
       "    <tr>\n",
       "      <th>150018</th>\n",
       "      <td>185650</td>\n",
       "      <td>2007</td>\n",
       "      <td>Dodge</td>\n",
       "      <td>Caliber</td>\n",
       "      <td>SXT</td>\n",
       "      <td>Wagon</td>\n",
       "      <td>automatic</td>\n",
       "      <td>1b3hb48bx7d113596</td>\n",
       "      <td>ga</td>\n",
       "      <td>2.0</td>\n",
       "      <td>326716.0</td>\n",
       "      <td>red</td>\n",
       "      <td>gray</td>\n",
       "      <td>1175</td>\n",
       "      <td>900</td>\n",
       "      <td>2015-01-22 04:30:00-08:00</td>\n",
       "    </tr>\n",
       "    <tr>\n",
       "      <th>151411</th>\n",
       "      <td>187304</td>\n",
       "      <td>2001</td>\n",
       "      <td>Dodge</td>\n",
       "      <td>Dakota</td>\n",
       "      <td>Base</td>\n",
       "      <td>Club Cab</td>\n",
       "      <td>automatic</td>\n",
       "      <td>1b7gg22n01s348630</td>\n",
       "      <td>az</td>\n",
       "      <td>1.0</td>\n",
       "      <td>140318.0</td>\n",
       "      <td>black</td>\n",
       "      <td>black</td>\n",
       "      <td>1600</td>\n",
       "      <td>2200</td>\n",
       "      <td>2015-01-22 03:00:00-08:00</td>\n",
       "    </tr>\n",
       "    <tr>\n",
       "      <th>...</th>\n",
       "      <td>...</td>\n",
       "      <td>...</td>\n",
       "      <td>...</td>\n",
       "      <td>...</td>\n",
       "      <td>...</td>\n",
       "      <td>...</td>\n",
       "      <td>...</td>\n",
       "      <td>...</td>\n",
       "      <td>...</td>\n",
       "      <td>...</td>\n",
       "      <td>...</td>\n",
       "      <td>...</td>\n",
       "      <td>...</td>\n",
       "      <td>...</td>\n",
       "      <td>...</td>\n",
       "      <td>...</td>\n",
       "    </tr>\n",
       "    <tr>\n",
       "      <th>472314</th>\n",
       "      <td>558782</td>\n",
       "      <td>2008</td>\n",
       "      <td>BMW</td>\n",
       "      <td>1 Series</td>\n",
       "      <td>135i</td>\n",
       "      <td>Convertible</td>\n",
       "      <td>automatic</td>\n",
       "      <td>wbaun93588vf56134</td>\n",
       "      <td>ca</td>\n",
       "      <td>3.3</td>\n",
       "      <td>96344.0</td>\n",
       "      <td>red</td>\n",
       "      <td>black</td>\n",
       "      <td>12500</td>\n",
       "      <td>13000</td>\n",
       "      <td>2015-07-08 09:30:00-07:00</td>\n",
       "    </tr>\n",
       "    <tr>\n",
       "      <th>102673</th>\n",
       "      <td>130513</td>\n",
       "      <td>2003</td>\n",
       "      <td>Mercedes-Benz</td>\n",
       "      <td>E-Class</td>\n",
       "      <td>E500</td>\n",
       "      <td>Sedan</td>\n",
       "      <td>automatic</td>\n",
       "      <td>wdbuf70j23a235692</td>\n",
       "      <td>nc</td>\n",
       "      <td>1.3</td>\n",
       "      <td>146913.0</td>\n",
       "      <td>black</td>\n",
       "      <td>tan</td>\n",
       "      <td>4375</td>\n",
       "      <td>2800</td>\n",
       "      <td>2015-01-13 09:15:00-08:00</td>\n",
       "    </tr>\n",
       "    <tr>\n",
       "      <th>16429</th>\n",
       "      <td>26312</td>\n",
       "      <td>2003</td>\n",
       "      <td>Mercedes-Benz</td>\n",
       "      <td>E-Class</td>\n",
       "      <td>E500</td>\n",
       "      <td>Sedan</td>\n",
       "      <td>automatic</td>\n",
       "      <td>wdbuf70j23a235692</td>\n",
       "      <td>nc</td>\n",
       "      <td>1.2</td>\n",
       "      <td>1.0</td>\n",
       "      <td>black</td>\n",
       "      <td>tan</td>\n",
       "      <td>7225</td>\n",
       "      <td>2000</td>\n",
       "      <td>2015-01-13 09:15:00-08:00</td>\n",
       "    </tr>\n",
       "    <tr>\n",
       "      <th>280622</th>\n",
       "      <td>334394</td>\n",
       "      <td>2007</td>\n",
       "      <td>Mercedes-Benz</td>\n",
       "      <td>CLS-Class</td>\n",
       "      <td>CLS550</td>\n",
       "      <td>Sedan</td>\n",
       "      <td>automatic</td>\n",
       "      <td>wdddj72x27a080493</td>\n",
       "      <td>mo</td>\n",
       "      <td>2.1</td>\n",
       "      <td>79869.0</td>\n",
       "      <td>gray</td>\n",
       "      <td>black</td>\n",
       "      <td>15400</td>\n",
       "      <td>17000</td>\n",
       "      <td>2015-07-08 07:30:00-07:00</td>\n",
       "    </tr>\n",
       "    <tr>\n",
       "      <th>201904</th>\n",
       "      <td>244910</td>\n",
       "      <td>2007</td>\n",
       "      <td>Mercedes-Benz</td>\n",
       "      <td>CLS-Class</td>\n",
       "      <td>CLS550</td>\n",
       "      <td>Sedan</td>\n",
       "      <td>automatic</td>\n",
       "      <td>wdddj72x27a080493</td>\n",
       "      <td>mo</td>\n",
       "      <td>2.1</td>\n",
       "      <td>79869.0</td>\n",
       "      <td>gray</td>\n",
       "      <td>black</td>\n",
       "      <td>15400</td>\n",
       "      <td>15800</td>\n",
       "      <td>2015-07-08 07:30:00-07:00</td>\n",
       "    </tr>\n",
       "  </tbody>\n",
       "</table>\n",
       "<p>112 rows × 16 columns</p>\n",
       "</div>"
      ],
      "text/plain": [
       "         index  year           make      model    trim         body  \\\n",
       "199574  242292  2012          Honda      Civic    EX-L        Sedan   \n",
       "26380    42482  2012          Honda      Civic    EX-L        Sedan   \n",
       "12625    17667  2007          Dodge    Caliber     SXT        Wagon   \n",
       "150018  185650  2007          Dodge    Caliber     SXT        Wagon   \n",
       "151411  187304  2001          Dodge     Dakota    Base     Club Cab   \n",
       "...        ...   ...            ...        ...     ...          ...   \n",
       "472314  558782  2008            BMW   1 Series    135i  Convertible   \n",
       "102673  130513  2003  Mercedes-Benz    E-Class    E500        Sedan   \n",
       "16429    26312  2003  Mercedes-Benz    E-Class    E500        Sedan   \n",
       "280622  334394  2007  Mercedes-Benz  CLS-Class  CLS550        Sedan   \n",
       "201904  244910  2007  Mercedes-Benz  CLS-Class  CLS550        Sedan   \n",
       "\n",
       "       transmission                vin state  condition  odometer  color  \\\n",
       "199574    automatic  19xfb2f97ce313922    md        4.4   68059.0  white   \n",
       "26380     automatic  19xfb2f97ce313922    md        4.0       1.0  white   \n",
       "12625     automatic  1b3hb48bx7d113596    ga        2.0       1.0    red   \n",
       "150018    automatic  1b3hb48bx7d113596    ga        2.0  326716.0    red   \n",
       "151411    automatic  1b7gg22n01s348630    az        1.0  140318.0  black   \n",
       "...             ...                ...   ...        ...       ...    ...   \n",
       "472314    automatic  wbaun93588vf56134    ca        3.3   96344.0    red   \n",
       "102673    automatic  wdbuf70j23a235692    nc        1.3  146913.0  black   \n",
       "16429     automatic  wdbuf70j23a235692    nc        1.2       1.0  black   \n",
       "280622    automatic  wdddj72x27a080493    mo        2.1   79869.0   gray   \n",
       "201904    automatic  wdddj72x27a080493    mo        2.1   79869.0   gray   \n",
       "\n",
       "       interior    mmr  sellingprice                   saledate  \n",
       "199574    beige  11100         11600  2015-02-03 01:30:00-08:00  \n",
       "26380     beige  14150          3900  2015-02-03 01:30:00-08:00  \n",
       "12625      gray   5100          2300  2015-01-22 04:30:00-08:00  \n",
       "150018     gray   1175           900  2015-01-22 04:30:00-08:00  \n",
       "151411    black   1600          2200  2015-01-22 03:00:00-08:00  \n",
       "...         ...    ...           ...                        ...  \n",
       "472314    black  12500         13000  2015-07-08 09:30:00-07:00  \n",
       "102673      tan   4375          2800  2015-01-13 09:15:00-08:00  \n",
       "16429       tan   7225          2000  2015-01-13 09:15:00-08:00  \n",
       "280622    black  15400         17000  2015-07-08 07:30:00-07:00  \n",
       "201904    black  15400         15800  2015-07-08 07:30:00-07:00  \n",
       "\n",
       "[112 rows x 16 columns]"
      ]
     },
     "execution_count": 23,
     "metadata": {},
     "output_type": "execute_result"
    }
   ],
   "source": [
    "df2[df2.duplicated(subset = ['vin', 'saledate'], keep= False)].sort_values('vin')"
   ]
  },
  {
   "cell_type": "markdown",
   "id": "6cc84c22",
   "metadata": {},
   "source": [
    "> Several unexpected values are present in the above dataframe: some rows describe an identical sale, but with different values for some of the columns. Some of them appear to be errors, as one of the rows have '1.0' as the record for the ododmeter but another row for the same vehicle/sale has a number better aligned with what one would expect for a vehicle several years old.\n",
    "\n",
    "Let's proceed by dropping rows with '1.0' as odometer value:"
   ]
  },
  {
   "cell_type": "code",
   "execution_count": 52,
   "id": "c4e9390a",
   "metadata": {},
   "outputs": [
    {
     "data": {
      "text/plain": [
       "Index([  3306,  12625,  14712,  16429,  26380,  28926,  30611,  39281,  40540,\n",
       "        41485,\n",
       "       ...\n",
       "       408840, 411514, 411971, 418486, 441853, 452492, 461611, 466361, 471252,\n",
       "       472314],\n",
       "      dtype='int64', length=112)"
      ]
     },
     "execution_count": 52,
     "metadata": {},
     "output_type": "execute_result"
    }
   ],
   "source": [
    "df2[df2.duplicated(subset = ['vin', 'saledate'], keep= False)].index"
   ]
  },
  {
   "cell_type": "code",
   "execution_count": 39,
   "id": "a7c776fb",
   "metadata": {},
   "outputs": [],
   "source": [
    "df3 = df2[df2.duplicated(subset = ['vin', 'saledate'], keep= False)]"
   ]
  },
  {
   "cell_type": "code",
   "execution_count": 40,
   "id": "ab63f7e8",
   "metadata": {},
   "outputs": [
    {
     "ename": "KeyError",
     "evalue": "'[639, 2688, 2800, 2810, 2872, 2980, 3157, 3238, 3311, 3362, 3598, 3621, 3625, 3670, 3700, 3807, 3844, 3905, 4070, 4135, 4146, 4173, 4179, 4181, 4217, 4250, 4263, 5270, 5943, 6263, 6302, 8863, 9223, 9373, 9959, 10197, 10480, 10820, 11246, 11368, 11821, 12198, 12405, 12416, 12428, 12442, 12554, 12589, 12799, 12837, 12899, 13296, 13455, 13510, 13690, 13767, 13783, 13884, 13905, 13909, 13974, 14013, 14054, 14287, 14341, 14477, 14538, 14539, 14592, 14686, 14893, 14894, 14933, 15192, 15201, 15213, 15252, 15254, 15395, 15396, 15454, 15478, 15485, 15492, 15502, 15506, 15533, 15545, 15571, 15863, 15876, 15885, 15888, 15994, 15996, 16002, 16025, 16035, 16056, 16079, 16241, 16243, 16269, 16300, 16305, 16428, 16467, 16622, 16630, 16641, 16646, 16657, 16716, 16729, 16837, 16846, 16860, 16903, 16934, 16954, 16967, 16984, 16987, 17137, 17145, 17159, 17168, 17191, 17192, 17193, 17235, 17241, 17289, 17305, 17370, 17377, 17402, 17461, 17464, 17527, 17682, 17694, 17726, 19506, 20205, 20383, 20708, 20766, 22240, 22448, 22902, 24045, 24641, 24755, 24857, 24911, 24929, 25048, 25127, 25134, 25150, 25190, 25208, 25325, 25407, 25420, 25425, 25426, 26025, 26790, 26883, 26990, 27119, 28048, 28449, 28544, 29762, 29822, 30330, 30690, 30923, 30936, 31071, 31098, 31165, 31311, 31461, 31471, 31554, 31569, 31576, 31670, 31716, 31846, 31944, 31985, 32026, 32155, 32166, 32201, 32258, 32379, 33371, 36747, 37543, 37623, 37658, 37744, 37812, 38622, 39030, 39032, 39638, 39847, 39938, 40075, 40453, 40498, 40554, 40707, 40818, 40960, 40970, 41124, 41178, 41185, 41255, 41259, 41269, 41416, 41498, 41519, 41627, 41659, 41660, 41663, 41677, 41705, 41738, 41753, 41788, 46106, 47222, 47345, 47346, 47489, 47494, 47594, 47894, 47933, 48309, 48347, 48360, 48371, 48537, 48545, 48551, 48621, 48629, 48720, 48728, 48747, 48773, 48856, 49886, 50757, 50999, 51304, 51392, 52016, 52145, 52255, 52829, 52869, 53994, 54462, 56649, 56650, 56800, 56820, 56841, 56944, 56959, 57068, 57080, 57098, 57139, 57207, 57225, 57253, 57792, 57990, 58811, 59755, 59882, 59883, 59894, 59994, 60458, 61128, 61190, 61287, 61696, 61836, 61876, 61977, 62067, 62082, 62205, 62213, 62250, 62323, 62390, 62486, 62540, 62561, 62566, 62601, 62701, 62779, 62824, 62864, 62925, 63595, 64467, 64488, 64841, 67116, 67133, 68149, 68406, 68467, 68477, 68494, 69506, 69601, 70009, 70381, 70757, 70778, 70797, 70803, 71215, 71417, 71443, 71622, 71623, 71688, 71801, 71806, 71854, 71869, 71899, 71994, 71997, 72563, 73412, 73450, 75550, 76706, 77174, 77253, 77459, 77655, 77693, 80645, 81849, 81938, 82008, 82024, 82173, 82247, 82306, 82308, 84425, 84831, 86390, 88283, 89651, 89789, 89850, 90016, 90252, 90406, 90477, 91093, 91099, 91262, 91942, 91943, 91975, 92238, 92249, 92413, 92444, 92635, 92641, 92741, 98676, 99183, 99622, 100431, 100502, 101071, 101133, 101269, 101588, 101847, 102296, 102330, 102376, 102463, 102477, 102915, 102925, 103024, 103026, 103031, 103109, 103158, 103255, 103258, 103267, 103275, 103285, 103334, 103380, 103385, 103403, 103407, 103411, 103451, 103481, 105326, 105368, 107836, 108186, 108511, 108589, 111221, 111273, 112018, 112152, 112316, 112477, 112587, 113808, 114141, 115812, 116167, 116298, 116305, 116391, 118246, 118695, 119242, 119378, 119476, 119645, 120896, 122477, 122662, 123373, 123375, 123655, 123820, 123958, 124051, 124142, 124166, 124180, 124227, 124241, 124242, 124391, 124396, 124433, 124437, 125629, 125709, 127299, 127995, 128190, 128592, 128642, 129974, 130663, 130664, 131074, 131236, 131311, 131317, 131717, 132864, 133093, 133150, 133171, 133209, 133215, 133223, 133262, 133324, 133778, 133796, 134164, 135365, 135440, 135804, 135912, 135942, 137726, 138081, 140049, 140084, 142329, 142573, 142898, 143797, 144285, 144301, 144435, 144527, 144549, 146614, 147158, 149319, 150113, 150338, 150879, 150915, 151012, 151474, 154796, 157794, 158382, 158700, 158803, 158936, 162637, 162656, 162941, 162955, 163034, 163041, 163045, 163617, 163961, 164436, 165476, 165658, 165705, 165874, 165968, 166417, 166484, 166589, 166645, 166688, 166756, 166835, 166888, 167064, 167085, 167129, 167221, 167384, 168860, 169209, 172027, 172560, 172654, 173476, 173665, 173757, 175017, 175097, 175159, 175185, 175250, 175318, 175406, 175417, 175503, 175649, 175792, 175814, 177258, 178192, 178314, 186924, 189109, 189134, 189199, 189545, 189604, 190192, 190380, 190753, 190860, 191326, 191343, 191527, 191562, 192071, 192239, 192259, 192273, 192488, 192530, 192552, 192559, 192561, 192577, 197817, 198112, 198384, 198447, 200473, 202127, 202847, 202885, 202913, 203066, 203087, 203111, 203117, 208791, 209128, 209579, 210195, 210314, 210372, 210999, 213171, 214658, 214675, 214942, 215135, 215453, 215628, 215693, 215710, 215893, 217714, 219010, 220482, 223110, 223351, 224407, 224509, 224516, 224570, 224879, 228412, 228557, 228687, 230349, 231422, 232356, 232903, 233168, 233328, 233998, 234022, 237812, 241195, 241512, 241911, 242170, 244288, 244365, 244522, 244545, 246491, 247736, 247809, 248772, 248836, 249007, 249060, 249381, 257582, 257610, 257667, 261265, 261631, 261674, 261771, 264914, 265011, 266058, 267880, 269288, 269293, 269443, 271293, 271323, 272312, 272315, 275995, 276061, 276073, 276105, 276215, 276225, 276371, 276482, 277814, 278135, 278173, 280251, 280704, 280734, 281412, 281653, 281660, 281715, 281719, 281738, 281790, 284596, 285810, 286217, 286247, 289350, 289392, 289601, 289632, 290064, 290990, 292525, 292526, 292536, 294168, 296855, 297109, 297930, 297995, 298028, 298342, 299522, 300804, 301176, 301699, 302934, 303848, 303869, 303925, 304073, 304189, 304282, 304293, 306020, 306158, 306696, 308886, 309982, 310348, 310393, 310596, 311116, 311251, 313624, 314047, 314203, 314321, 314516, 317631, 318979, 319150, 319180, 319369, 320788, 321971, 322049, 324323, 324664, 324859, 325903, 326055, 326394, 326412, 326415, 326465, 326909, 330373, 330542, 331251, 331257, 331297, 331393, 331427, 336145, 336180, 337324, 338094, 338237, 338301, 339356, 340504, 340507, 341409, 341835, 341882, 341893, 341910, 342006, 342018, 342117, 342120, 342121, 342135, 342190, 342194, 342219, 342254, 342298, 342354, 342392, 342427, 342576, 342592, 342611, 342667, 342675, 342782, 342786, 342792, 342828, 342874, 342901, 343032, 343033, 343205, 343208, 343209, 343237, 343242, 343283, 343392, 343486, 343532, 343768, 344144, 344411, 344417, 344464, 344870, 345314, 345340, 345453, 345598, 345613, 345800, 345810, 345813, 345893, 346009, 346017, 346324, 346354, 346363, 346431, 346660, 346934, 346939, 347075, 348019, 348228, 348850, 349005, 349339, 349344, 349711, 350102, 350209, 350357, 351341, 352511, 352891, 353561, 354253, 356150, 356190, 356822, 357069, 357130, 357143, 357694, 358441, 359021, 367608, 367834, 368936, 370562, 370902, 373802, 373859, 374960, 376202, 376217, 376620, 379194, 379441, 385447, 385764, 388389, 393401, 395067, 398345, 398420, 399995, 401061, 401472, 402908, 403231, 406587, 409151, 410022, 414211, 416518, 417212, 417231, 421026, 423213, 424685, 428633, 432612, 432700, 432788, 436133, 437284, 438973, 447948, 448529, 448637, 448645, 456355, 458345, 466352, 466420, 466475, 468498, 471288] not found in axis'",
     "output_type": "error",
     "traceback": [
      "\u001b[1;31m---------------------------------------------------------------------------\u001b[0m",
      "\u001b[1;31mKeyError\u001b[0m                                  Traceback (most recent call last)",
      "Cell \u001b[1;32mIn[40], line 1\u001b[0m\n\u001b[1;32m----> 1\u001b[0m df3\u001b[38;5;241m.\u001b[39mdrop(df2[df2[\u001b[38;5;124m'\u001b[39m\u001b[38;5;124modometer\u001b[39m\u001b[38;5;124m'\u001b[39m]\u001b[38;5;241m==\u001b[39m\u001b[38;5;241m1.0\u001b[39m]\u001b[38;5;241m.\u001b[39mindex)\n",
      "File \u001b[1;32m~\\anaconda3\\Lib\\site-packages\\pandas\\core\\frame.py:5347\u001b[0m, in \u001b[0;36mDataFrame.drop\u001b[1;34m(self, labels, axis, index, columns, level, inplace, errors)\u001b[0m\n\u001b[0;32m   5199\u001b[0m \u001b[38;5;28;01mdef\u001b[39;00m \u001b[38;5;21mdrop\u001b[39m(\n\u001b[0;32m   5200\u001b[0m     \u001b[38;5;28mself\u001b[39m,\n\u001b[0;32m   5201\u001b[0m     labels: IndexLabel \u001b[38;5;241m|\u001b[39m \u001b[38;5;28;01mNone\u001b[39;00m \u001b[38;5;241m=\u001b[39m \u001b[38;5;28;01mNone\u001b[39;00m,\n\u001b[1;32m   (...)\u001b[0m\n\u001b[0;32m   5208\u001b[0m     errors: IgnoreRaise \u001b[38;5;241m=\u001b[39m \u001b[38;5;124m\"\u001b[39m\u001b[38;5;124mraise\u001b[39m\u001b[38;5;124m\"\u001b[39m,\n\u001b[0;32m   5209\u001b[0m ) \u001b[38;5;241m-\u001b[39m\u001b[38;5;241m>\u001b[39m DataFrame \u001b[38;5;241m|\u001b[39m \u001b[38;5;28;01mNone\u001b[39;00m:\n\u001b[0;32m   5210\u001b[0m \u001b[38;5;250m    \u001b[39m\u001b[38;5;124;03m\"\"\"\u001b[39;00m\n\u001b[0;32m   5211\u001b[0m \u001b[38;5;124;03m    Drop specified labels from rows or columns.\u001b[39;00m\n\u001b[0;32m   5212\u001b[0m \n\u001b[1;32m   (...)\u001b[0m\n\u001b[0;32m   5345\u001b[0m \u001b[38;5;124;03m            weight  1.0     0.8\u001b[39;00m\n\u001b[0;32m   5346\u001b[0m \u001b[38;5;124;03m    \"\"\"\u001b[39;00m\n\u001b[1;32m-> 5347\u001b[0m     \u001b[38;5;28;01mreturn\u001b[39;00m \u001b[38;5;28msuper\u001b[39m()\u001b[38;5;241m.\u001b[39mdrop(\n\u001b[0;32m   5348\u001b[0m         labels\u001b[38;5;241m=\u001b[39mlabels,\n\u001b[0;32m   5349\u001b[0m         axis\u001b[38;5;241m=\u001b[39maxis,\n\u001b[0;32m   5350\u001b[0m         index\u001b[38;5;241m=\u001b[39mindex,\n\u001b[0;32m   5351\u001b[0m         columns\u001b[38;5;241m=\u001b[39mcolumns,\n\u001b[0;32m   5352\u001b[0m         level\u001b[38;5;241m=\u001b[39mlevel,\n\u001b[0;32m   5353\u001b[0m         inplace\u001b[38;5;241m=\u001b[39minplace,\n\u001b[0;32m   5354\u001b[0m         errors\u001b[38;5;241m=\u001b[39merrors,\n\u001b[0;32m   5355\u001b[0m     )\n",
      "File \u001b[1;32m~\\anaconda3\\Lib\\site-packages\\pandas\\core\\generic.py:4711\u001b[0m, in \u001b[0;36mNDFrame.drop\u001b[1;34m(self, labels, axis, index, columns, level, inplace, errors)\u001b[0m\n\u001b[0;32m   4709\u001b[0m \u001b[38;5;28;01mfor\u001b[39;00m axis, labels \u001b[38;5;129;01min\u001b[39;00m axes\u001b[38;5;241m.\u001b[39mitems():\n\u001b[0;32m   4710\u001b[0m     \u001b[38;5;28;01mif\u001b[39;00m labels \u001b[38;5;129;01mis\u001b[39;00m \u001b[38;5;129;01mnot\u001b[39;00m \u001b[38;5;28;01mNone\u001b[39;00m:\n\u001b[1;32m-> 4711\u001b[0m         obj \u001b[38;5;241m=\u001b[39m obj\u001b[38;5;241m.\u001b[39m_drop_axis(labels, axis, level\u001b[38;5;241m=\u001b[39mlevel, errors\u001b[38;5;241m=\u001b[39merrors)\n\u001b[0;32m   4713\u001b[0m \u001b[38;5;28;01mif\u001b[39;00m inplace:\n\u001b[0;32m   4714\u001b[0m     \u001b[38;5;28mself\u001b[39m\u001b[38;5;241m.\u001b[39m_update_inplace(obj)\n",
      "File \u001b[1;32m~\\anaconda3\\Lib\\site-packages\\pandas\\core\\generic.py:4753\u001b[0m, in \u001b[0;36mNDFrame._drop_axis\u001b[1;34m(self, labels, axis, level, errors, only_slice)\u001b[0m\n\u001b[0;32m   4751\u001b[0m         new_axis \u001b[38;5;241m=\u001b[39m axis\u001b[38;5;241m.\u001b[39mdrop(labels, level\u001b[38;5;241m=\u001b[39mlevel, errors\u001b[38;5;241m=\u001b[39merrors)\n\u001b[0;32m   4752\u001b[0m     \u001b[38;5;28;01melse\u001b[39;00m:\n\u001b[1;32m-> 4753\u001b[0m         new_axis \u001b[38;5;241m=\u001b[39m axis\u001b[38;5;241m.\u001b[39mdrop(labels, errors\u001b[38;5;241m=\u001b[39merrors)\n\u001b[0;32m   4754\u001b[0m     indexer \u001b[38;5;241m=\u001b[39m axis\u001b[38;5;241m.\u001b[39mget_indexer(new_axis)\n\u001b[0;32m   4756\u001b[0m \u001b[38;5;66;03m# Case for non-unique axis\u001b[39;00m\n\u001b[0;32m   4757\u001b[0m \u001b[38;5;28;01melse\u001b[39;00m:\n",
      "File \u001b[1;32m~\\anaconda3\\Lib\\site-packages\\pandas\\core\\indexes\\base.py:6992\u001b[0m, in \u001b[0;36mIndex.drop\u001b[1;34m(self, labels, errors)\u001b[0m\n\u001b[0;32m   6990\u001b[0m \u001b[38;5;28;01mif\u001b[39;00m mask\u001b[38;5;241m.\u001b[39many():\n\u001b[0;32m   6991\u001b[0m     \u001b[38;5;28;01mif\u001b[39;00m errors \u001b[38;5;241m!=\u001b[39m \u001b[38;5;124m\"\u001b[39m\u001b[38;5;124mignore\u001b[39m\u001b[38;5;124m\"\u001b[39m:\n\u001b[1;32m-> 6992\u001b[0m         \u001b[38;5;28;01mraise\u001b[39;00m \u001b[38;5;167;01mKeyError\u001b[39;00m(\u001b[38;5;124mf\u001b[39m\u001b[38;5;124m\"\u001b[39m\u001b[38;5;132;01m{\u001b[39;00mlabels[mask]\u001b[38;5;241m.\u001b[39mtolist()\u001b[38;5;132;01m}\u001b[39;00m\u001b[38;5;124m not found in axis\u001b[39m\u001b[38;5;124m\"\u001b[39m)\n\u001b[0;32m   6993\u001b[0m     indexer \u001b[38;5;241m=\u001b[39m indexer[\u001b[38;5;241m~\u001b[39mmask]\n\u001b[0;32m   6994\u001b[0m \u001b[38;5;28;01mreturn\u001b[39;00m \u001b[38;5;28mself\u001b[39m\u001b[38;5;241m.\u001b[39mdelete(indexer)\n",
      "\u001b[1;31mKeyError\u001b[0m: '[639, 2688, 2800, 2810, 2872, 2980, 3157, 3238, 3311, 3362, 3598, 3621, 3625, 3670, 3700, 3807, 3844, 3905, 4070, 4135, 4146, 4173, 4179, 4181, 4217, 4250, 4263, 5270, 5943, 6263, 6302, 8863, 9223, 9373, 9959, 10197, 10480, 10820, 11246, 11368, 11821, 12198, 12405, 12416, 12428, 12442, 12554, 12589, 12799, 12837, 12899, 13296, 13455, 13510, 13690, 13767, 13783, 13884, 13905, 13909, 13974, 14013, 14054, 14287, 14341, 14477, 14538, 14539, 14592, 14686, 14893, 14894, 14933, 15192, 15201, 15213, 15252, 15254, 15395, 15396, 15454, 15478, 15485, 15492, 15502, 15506, 15533, 15545, 15571, 15863, 15876, 15885, 15888, 15994, 15996, 16002, 16025, 16035, 16056, 16079, 16241, 16243, 16269, 16300, 16305, 16428, 16467, 16622, 16630, 16641, 16646, 16657, 16716, 16729, 16837, 16846, 16860, 16903, 16934, 16954, 16967, 16984, 16987, 17137, 17145, 17159, 17168, 17191, 17192, 17193, 17235, 17241, 17289, 17305, 17370, 17377, 17402, 17461, 17464, 17527, 17682, 17694, 17726, 19506, 20205, 20383, 20708, 20766, 22240, 22448, 22902, 24045, 24641, 24755, 24857, 24911, 24929, 25048, 25127, 25134, 25150, 25190, 25208, 25325, 25407, 25420, 25425, 25426, 26025, 26790, 26883, 26990, 27119, 28048, 28449, 28544, 29762, 29822, 30330, 30690, 30923, 30936, 31071, 31098, 31165, 31311, 31461, 31471, 31554, 31569, 31576, 31670, 31716, 31846, 31944, 31985, 32026, 32155, 32166, 32201, 32258, 32379, 33371, 36747, 37543, 37623, 37658, 37744, 37812, 38622, 39030, 39032, 39638, 39847, 39938, 40075, 40453, 40498, 40554, 40707, 40818, 40960, 40970, 41124, 41178, 41185, 41255, 41259, 41269, 41416, 41498, 41519, 41627, 41659, 41660, 41663, 41677, 41705, 41738, 41753, 41788, 46106, 47222, 47345, 47346, 47489, 47494, 47594, 47894, 47933, 48309, 48347, 48360, 48371, 48537, 48545, 48551, 48621, 48629, 48720, 48728, 48747, 48773, 48856, 49886, 50757, 50999, 51304, 51392, 52016, 52145, 52255, 52829, 52869, 53994, 54462, 56649, 56650, 56800, 56820, 56841, 56944, 56959, 57068, 57080, 57098, 57139, 57207, 57225, 57253, 57792, 57990, 58811, 59755, 59882, 59883, 59894, 59994, 60458, 61128, 61190, 61287, 61696, 61836, 61876, 61977, 62067, 62082, 62205, 62213, 62250, 62323, 62390, 62486, 62540, 62561, 62566, 62601, 62701, 62779, 62824, 62864, 62925, 63595, 64467, 64488, 64841, 67116, 67133, 68149, 68406, 68467, 68477, 68494, 69506, 69601, 70009, 70381, 70757, 70778, 70797, 70803, 71215, 71417, 71443, 71622, 71623, 71688, 71801, 71806, 71854, 71869, 71899, 71994, 71997, 72563, 73412, 73450, 75550, 76706, 77174, 77253, 77459, 77655, 77693, 80645, 81849, 81938, 82008, 82024, 82173, 82247, 82306, 82308, 84425, 84831, 86390, 88283, 89651, 89789, 89850, 90016, 90252, 90406, 90477, 91093, 91099, 91262, 91942, 91943, 91975, 92238, 92249, 92413, 92444, 92635, 92641, 92741, 98676, 99183, 99622, 100431, 100502, 101071, 101133, 101269, 101588, 101847, 102296, 102330, 102376, 102463, 102477, 102915, 102925, 103024, 103026, 103031, 103109, 103158, 103255, 103258, 103267, 103275, 103285, 103334, 103380, 103385, 103403, 103407, 103411, 103451, 103481, 105326, 105368, 107836, 108186, 108511, 108589, 111221, 111273, 112018, 112152, 112316, 112477, 112587, 113808, 114141, 115812, 116167, 116298, 116305, 116391, 118246, 118695, 119242, 119378, 119476, 119645, 120896, 122477, 122662, 123373, 123375, 123655, 123820, 123958, 124051, 124142, 124166, 124180, 124227, 124241, 124242, 124391, 124396, 124433, 124437, 125629, 125709, 127299, 127995, 128190, 128592, 128642, 129974, 130663, 130664, 131074, 131236, 131311, 131317, 131717, 132864, 133093, 133150, 133171, 133209, 133215, 133223, 133262, 133324, 133778, 133796, 134164, 135365, 135440, 135804, 135912, 135942, 137726, 138081, 140049, 140084, 142329, 142573, 142898, 143797, 144285, 144301, 144435, 144527, 144549, 146614, 147158, 149319, 150113, 150338, 150879, 150915, 151012, 151474, 154796, 157794, 158382, 158700, 158803, 158936, 162637, 162656, 162941, 162955, 163034, 163041, 163045, 163617, 163961, 164436, 165476, 165658, 165705, 165874, 165968, 166417, 166484, 166589, 166645, 166688, 166756, 166835, 166888, 167064, 167085, 167129, 167221, 167384, 168860, 169209, 172027, 172560, 172654, 173476, 173665, 173757, 175017, 175097, 175159, 175185, 175250, 175318, 175406, 175417, 175503, 175649, 175792, 175814, 177258, 178192, 178314, 186924, 189109, 189134, 189199, 189545, 189604, 190192, 190380, 190753, 190860, 191326, 191343, 191527, 191562, 192071, 192239, 192259, 192273, 192488, 192530, 192552, 192559, 192561, 192577, 197817, 198112, 198384, 198447, 200473, 202127, 202847, 202885, 202913, 203066, 203087, 203111, 203117, 208791, 209128, 209579, 210195, 210314, 210372, 210999, 213171, 214658, 214675, 214942, 215135, 215453, 215628, 215693, 215710, 215893, 217714, 219010, 220482, 223110, 223351, 224407, 224509, 224516, 224570, 224879, 228412, 228557, 228687, 230349, 231422, 232356, 232903, 233168, 233328, 233998, 234022, 237812, 241195, 241512, 241911, 242170, 244288, 244365, 244522, 244545, 246491, 247736, 247809, 248772, 248836, 249007, 249060, 249381, 257582, 257610, 257667, 261265, 261631, 261674, 261771, 264914, 265011, 266058, 267880, 269288, 269293, 269443, 271293, 271323, 272312, 272315, 275995, 276061, 276073, 276105, 276215, 276225, 276371, 276482, 277814, 278135, 278173, 280251, 280704, 280734, 281412, 281653, 281660, 281715, 281719, 281738, 281790, 284596, 285810, 286217, 286247, 289350, 289392, 289601, 289632, 290064, 290990, 292525, 292526, 292536, 294168, 296855, 297109, 297930, 297995, 298028, 298342, 299522, 300804, 301176, 301699, 302934, 303848, 303869, 303925, 304073, 304189, 304282, 304293, 306020, 306158, 306696, 308886, 309982, 310348, 310393, 310596, 311116, 311251, 313624, 314047, 314203, 314321, 314516, 317631, 318979, 319150, 319180, 319369, 320788, 321971, 322049, 324323, 324664, 324859, 325903, 326055, 326394, 326412, 326415, 326465, 326909, 330373, 330542, 331251, 331257, 331297, 331393, 331427, 336145, 336180, 337324, 338094, 338237, 338301, 339356, 340504, 340507, 341409, 341835, 341882, 341893, 341910, 342006, 342018, 342117, 342120, 342121, 342135, 342190, 342194, 342219, 342254, 342298, 342354, 342392, 342427, 342576, 342592, 342611, 342667, 342675, 342782, 342786, 342792, 342828, 342874, 342901, 343032, 343033, 343205, 343208, 343209, 343237, 343242, 343283, 343392, 343486, 343532, 343768, 344144, 344411, 344417, 344464, 344870, 345314, 345340, 345453, 345598, 345613, 345800, 345810, 345813, 345893, 346009, 346017, 346324, 346354, 346363, 346431, 346660, 346934, 346939, 347075, 348019, 348228, 348850, 349005, 349339, 349344, 349711, 350102, 350209, 350357, 351341, 352511, 352891, 353561, 354253, 356150, 356190, 356822, 357069, 357130, 357143, 357694, 358441, 359021, 367608, 367834, 368936, 370562, 370902, 373802, 373859, 374960, 376202, 376217, 376620, 379194, 379441, 385447, 385764, 388389, 393401, 395067, 398345, 398420, 399995, 401061, 401472, 402908, 403231, 406587, 409151, 410022, 414211, 416518, 417212, 417231, 421026, 423213, 424685, 428633, 432612, 432700, 432788, 436133, 437284, 438973, 447948, 448529, 448637, 448645, 456355, 458345, 466352, 466420, 466475, 468498, 471288] not found in axis'"
     ]
    }
   ],
   "source": [
    "df3.drop(df2[df2['odometer']==1.0].index)"
   ]
  },
  {
   "cell_type": "code",
   "execution_count": 42,
   "id": "af06646f",
   "metadata": {},
   "outputs": [
    {
     "ename": "KeyError",
     "evalue": "\"None of [Index([16639.0,  9393.0,  1331.0, 14282.0,  2641.0,  5554.0, 14943.0, 28617.0,\\n        9557.0,  4809.0,\\n       ...\\n       20158.0, 71693.0,  9024.0, 25180.0, 97036.0, 66403.0, 54393.0, 50561.0,\\n       16658.0, 15008.0],\\n      dtype='float64', length=472336)] are in the [columns]\"",
     "output_type": "error",
     "traceback": [
      "\u001b[1;31m---------------------------------------------------------------------------\u001b[0m",
      "\u001b[1;31mKeyError\u001b[0m                                  Traceback (most recent call last)",
      "Cell \u001b[1;32mIn[42], line 1\u001b[0m\n\u001b[1;32m----> 1\u001b[0m df2[df2[\u001b[38;5;124m'\u001b[39m\u001b[38;5;124modometer\u001b[39m\u001b[38;5;124m'\u001b[39m]]\u001b[38;5;241m==\u001b[39m\u001b[38;5;241m1.0\u001b[39m\u001b[38;5;241m.\u001b[39mindex\n",
      "File \u001b[1;32m~\\anaconda3\\Lib\\site-packages\\pandas\\core\\frame.py:3902\u001b[0m, in \u001b[0;36mDataFrame.__getitem__\u001b[1;34m(self, key)\u001b[0m\n\u001b[0;32m   3900\u001b[0m     \u001b[38;5;28;01mif\u001b[39;00m is_iterator(key):\n\u001b[0;32m   3901\u001b[0m         key \u001b[38;5;241m=\u001b[39m \u001b[38;5;28mlist\u001b[39m(key)\n\u001b[1;32m-> 3902\u001b[0m     indexer \u001b[38;5;241m=\u001b[39m \u001b[38;5;28mself\u001b[39m\u001b[38;5;241m.\u001b[39mcolumns\u001b[38;5;241m.\u001b[39m_get_indexer_strict(key, \u001b[38;5;124m\"\u001b[39m\u001b[38;5;124mcolumns\u001b[39m\u001b[38;5;124m\"\u001b[39m)[\u001b[38;5;241m1\u001b[39m]\n\u001b[0;32m   3904\u001b[0m \u001b[38;5;66;03m# take() does not accept boolean indexers\u001b[39;00m\n\u001b[0;32m   3905\u001b[0m \u001b[38;5;28;01mif\u001b[39;00m \u001b[38;5;28mgetattr\u001b[39m(indexer, \u001b[38;5;124m\"\u001b[39m\u001b[38;5;124mdtype\u001b[39m\u001b[38;5;124m\"\u001b[39m, \u001b[38;5;28;01mNone\u001b[39;00m) \u001b[38;5;241m==\u001b[39m \u001b[38;5;28mbool\u001b[39m:\n",
      "File \u001b[1;32m~\\anaconda3\\Lib\\site-packages\\pandas\\core\\indexes\\base.py:6114\u001b[0m, in \u001b[0;36mIndex._get_indexer_strict\u001b[1;34m(self, key, axis_name)\u001b[0m\n\u001b[0;32m   6111\u001b[0m \u001b[38;5;28;01melse\u001b[39;00m:\n\u001b[0;32m   6112\u001b[0m     keyarr, indexer, new_indexer \u001b[38;5;241m=\u001b[39m \u001b[38;5;28mself\u001b[39m\u001b[38;5;241m.\u001b[39m_reindex_non_unique(keyarr)\n\u001b[1;32m-> 6114\u001b[0m \u001b[38;5;28mself\u001b[39m\u001b[38;5;241m.\u001b[39m_raise_if_missing(keyarr, indexer, axis_name)\n\u001b[0;32m   6116\u001b[0m keyarr \u001b[38;5;241m=\u001b[39m \u001b[38;5;28mself\u001b[39m\u001b[38;5;241m.\u001b[39mtake(indexer)\n\u001b[0;32m   6117\u001b[0m \u001b[38;5;28;01mif\u001b[39;00m \u001b[38;5;28misinstance\u001b[39m(key, Index):\n\u001b[0;32m   6118\u001b[0m     \u001b[38;5;66;03m# GH 42790 - Preserve name from an Index\u001b[39;00m\n",
      "File \u001b[1;32m~\\anaconda3\\Lib\\site-packages\\pandas\\core\\indexes\\base.py:6175\u001b[0m, in \u001b[0;36mIndex._raise_if_missing\u001b[1;34m(self, key, indexer, axis_name)\u001b[0m\n\u001b[0;32m   6173\u001b[0m     \u001b[38;5;28;01mif\u001b[39;00m use_interval_msg:\n\u001b[0;32m   6174\u001b[0m         key \u001b[38;5;241m=\u001b[39m \u001b[38;5;28mlist\u001b[39m(key)\n\u001b[1;32m-> 6175\u001b[0m     \u001b[38;5;28;01mraise\u001b[39;00m \u001b[38;5;167;01mKeyError\u001b[39;00m(\u001b[38;5;124mf\u001b[39m\u001b[38;5;124m\"\u001b[39m\u001b[38;5;124mNone of [\u001b[39m\u001b[38;5;132;01m{\u001b[39;00mkey\u001b[38;5;132;01m}\u001b[39;00m\u001b[38;5;124m] are in the [\u001b[39m\u001b[38;5;132;01m{\u001b[39;00maxis_name\u001b[38;5;132;01m}\u001b[39;00m\u001b[38;5;124m]\u001b[39m\u001b[38;5;124m\"\u001b[39m)\n\u001b[0;32m   6177\u001b[0m not_found \u001b[38;5;241m=\u001b[39m \u001b[38;5;28mlist\u001b[39m(ensure_index(key)[missing_mask\u001b[38;5;241m.\u001b[39mnonzero()[\u001b[38;5;241m0\u001b[39m]]\u001b[38;5;241m.\u001b[39munique())\n\u001b[0;32m   6178\u001b[0m \u001b[38;5;28;01mraise\u001b[39;00m \u001b[38;5;167;01mKeyError\u001b[39;00m(\u001b[38;5;124mf\u001b[39m\u001b[38;5;124m\"\u001b[39m\u001b[38;5;132;01m{\u001b[39;00mnot_found\u001b[38;5;132;01m}\u001b[39;00m\u001b[38;5;124m not in index\u001b[39m\u001b[38;5;124m\"\u001b[39m)\n",
      "\u001b[1;31mKeyError\u001b[0m: \"None of [Index([16639.0,  9393.0,  1331.0, 14282.0,  2641.0,  5554.0, 14943.0, 28617.0,\\n        9557.0,  4809.0,\\n       ...\\n       20158.0, 71693.0,  9024.0, 25180.0, 97036.0, 66403.0, 54393.0, 50561.0,\\n       16658.0, 15008.0],\\n      dtype='float64', length=472336)] are in the [columns]\""
     ]
    }
   ],
   "source": [
    "df2[df2['odometer']]==1.0.index"
   ]
  }
 ],
 "metadata": {
  "kernelspec": {
   "display_name": "Python 3 (ipykernel)",
   "language": "python",
   "name": "python3"
  },
  "language_info": {
   "codemirror_mode": {
    "name": "ipython",
    "version": 3
   },
   "file_extension": ".py",
   "mimetype": "text/x-python",
   "name": "python",
   "nbconvert_exporter": "python",
   "pygments_lexer": "ipython3",
   "version": "3.11.5"
  }
 },
 "nbformat": 4,
 "nbformat_minor": 5
}
