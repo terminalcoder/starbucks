{
 "cells": [
  {
   "cell_type": "markdown",
   "id": "48c6da79",
   "metadata": {},
   "source": [
    "# Used Car Auction Sales\n",
    "\n",
    "Elimelech Berlin  \n",
    "January 2024"
   ]
  },
  {
   "cell_type": "markdown",
   "id": "9d7e9903",
   "metadata": {},
   "source": [
    "## Context"
   ]
  },
  {
   "cell_type": "markdown",
   "id": "12dbe414",
   "metadata": {},
   "source": [
    "## Data"
   ]
  },
  {
   "cell_type": "markdown",
   "id": "c77ddc06",
   "metadata": {},
   "source": [
    "## EDA"
   ]
  },
  {
   "cell_type": "markdown",
   "id": "6faa2fbf",
   "metadata": {},
   "source": [
    "Imports:"
   ]
  },
  {
   "cell_type": "code",
   "execution_count": 4,
   "id": "dd2898ed",
   "metadata": {},
   "outputs": [],
   "source": [
    "import pandas as pd"
   ]
  },
  {
   "cell_type": "markdown",
   "id": "81864768",
   "metadata": {},
   "source": [
    "Load the data:\n",
    "(While running `pd.read_csv('data/car_prices.csv')`, this error was raised: 'ParserError: Error tokenizing data. C error: Expected 16 fields in line 408163, saw 17'). To fix the issue causing this, I examined the file in Notepad & found an error (extra comma in original csv file. So I edited it manually.)"
   ]
  },
  {
   "cell_type": "code",
   "execution_count": 6,
   "id": "55444efd",
   "metadata": {},
   "outputs": [
    {
     "name": "stderr",
     "output_type": "stream",
     "text": [
      "Skipping line 408163: expected 16 fields, saw 17\n",
      "Skipping line 417837: expected 16 fields, saw 17\n",
      "Skipping line 421291: expected 16 fields, saw 17\n",
      "Skipping line 424163: expected 16 fields, saw 17\n",
      "\n",
      "Skipping line 427042: expected 16 fields, saw 17\n",
      "Skipping line 427045: expected 16 fields, saw 17\n",
      "Skipping line 434426: expected 16 fields, saw 17\n",
      "Skipping line 444503: expected 16 fields, saw 17\n",
      "Skipping line 453796: expected 16 fields, saw 17\n",
      "\n",
      "Skipping line 461599: expected 16 fields, saw 17\n",
      "Skipping line 461614: expected 16 fields, saw 17\n",
      "\n",
      "Skipping line 492486: expected 16 fields, saw 17\n",
      "Skipping line 497010: expected 16 fields, saw 17\n",
      "Skipping line 497013: expected 16 fields, saw 17\n",
      "Skipping line 499085: expected 16 fields, saw 17\n",
      "Skipping line 501457: expected 16 fields, saw 17\n",
      "Skipping line 505301: expected 16 fields, saw 17\n",
      "Skipping line 505308: expected 16 fields, saw 17\n",
      "Skipping line 520463: expected 16 fields, saw 17\n",
      "\n",
      "Skipping line 528998: expected 16 fields, saw 17\n",
      "Skipping line 529011: expected 16 fields, saw 17\n",
      "Skipping line 529015: expected 16 fields, saw 17\n",
      "Skipping line 529624: expected 16 fields, saw 17\n",
      "Skipping line 548786: expected 16 fields, saw 17\n",
      "Skipping line 551224: expected 16 fields, saw 17\n",
      "Skipping line 554712: expected 16 fields, saw 17\n",
      "\n",
      "C:\\Users\\melec\\AppData\\Local\\Temp\\ipykernel_12644\\667289904.py:1: DtypeWarning: Columns (9,14) have mixed types. Specify dtype option on import or set low_memory=False.\n",
      "  df = pd.read_csv('data/car_prices.csv', on_bad_lines='warn')\n"
     ]
    }
   ],
   "source": [
    "# load csv file into a dataframe, raise a warning when rows cannot be loaded\n",
    "df = pd.read_csv('data/car_prices.csv', on_bad_lines='warn')"
   ]
  },
  {
   "cell_type": "markdown",
   "id": "d64da992",
   "metadata": {},
   "source": [
    "> ~ 25 rows are dropped from the data\n",
    "\n",
    "Let's have a look at the shape of the data:"
   ]
  },
  {
   "cell_type": "code",
   "execution_count": 11,
   "id": "e277c999",
   "metadata": {},
   "outputs": [
    {
     "data": {
      "text/plain": [
       "(558811, 16)"
      ]
     },
     "execution_count": 11,
     "metadata": {},
     "output_type": "execute_result"
    }
   ],
   "source": [
    "df.shape"
   ]
  },
  {
   "cell_type": "markdown",
   "id": "b2ddf601",
   "metadata": {},
   "source": [
    "> There are 550k+ records describeed by 16 columns/features.\n",
    "\n",
    "To gain further understanding of the data, view colunm names & the first few rows of the data:"
   ]
  },
  {
   "cell_type": "code",
   "execution_count": 12,
   "id": "e8b3d7ba",
   "metadata": {},
   "outputs": [
    {
     "data": {
      "text/plain": [
       "Index(['year', 'make', 'model', 'trim', 'body', 'transmission', 'vin', 'state',\n",
       "       'condition', 'odometer', 'color', 'interior', 'seller', 'mmr',\n",
       "       'sellingprice', 'saledate'],\n",
       "      dtype='object')"
      ]
     },
     "execution_count": 12,
     "metadata": {},
     "output_type": "execute_result"
    }
   ],
   "source": [
    "df.columns"
   ]
  },
  {
   "cell_type": "code",
   "execution_count": 17,
   "id": "42830bff",
   "metadata": {},
   "outputs": [
    {
     "data": {
      "text/html": [
       "<div>\n",
       "<style scoped>\n",
       "    .dataframe tbody tr th:only-of-type {\n",
       "        vertical-align: middle;\n",
       "    }\n",
       "\n",
       "    .dataframe tbody tr th {\n",
       "        vertical-align: top;\n",
       "    }\n",
       "\n",
       "    .dataframe thead th {\n",
       "        text-align: right;\n",
       "    }\n",
       "</style>\n",
       "<table border=\"1\" class=\"dataframe\">\n",
       "  <thead>\n",
       "    <tr style=\"text-align: right;\">\n",
       "      <th></th>\n",
       "      <th>year</th>\n",
       "      <th>make</th>\n",
       "      <th>model</th>\n",
       "      <th>trim</th>\n",
       "      <th>body</th>\n",
       "      <th>transmission</th>\n",
       "      <th>vin</th>\n",
       "      <th>state</th>\n",
       "      <th>condition</th>\n",
       "      <th>odometer</th>\n",
       "      <th>color</th>\n",
       "      <th>interior</th>\n",
       "      <th>seller</th>\n",
       "      <th>mmr</th>\n",
       "      <th>sellingprice</th>\n",
       "      <th>saledate</th>\n",
       "    </tr>\n",
       "  </thead>\n",
       "  <tbody>\n",
       "    <tr>\n",
       "      <th>0</th>\n",
       "      <td>2015</td>\n",
       "      <td>Kia</td>\n",
       "      <td>Sorento</td>\n",
       "      <td>LX</td>\n",
       "      <td>SUV</td>\n",
       "      <td>automatic</td>\n",
       "      <td>5xyktca69fg566472</td>\n",
       "      <td>ca</td>\n",
       "      <td>5.0</td>\n",
       "      <td>16639.0</td>\n",
       "      <td>white</td>\n",
       "      <td>black</td>\n",
       "      <td>kia motors america, inc</td>\n",
       "      <td>20500</td>\n",
       "      <td>21500</td>\n",
       "      <td>Tue Dec 16 2014 12:30:00 GMT-0800 (PST)</td>\n",
       "    </tr>\n",
       "    <tr>\n",
       "      <th>1</th>\n",
       "      <td>2015</td>\n",
       "      <td>Kia</td>\n",
       "      <td>Sorento</td>\n",
       "      <td>LX</td>\n",
       "      <td>SUV</td>\n",
       "      <td>automatic</td>\n",
       "      <td>5xyktca69fg561319</td>\n",
       "      <td>ca</td>\n",
       "      <td>5.0</td>\n",
       "      <td>9393.0</td>\n",
       "      <td>white</td>\n",
       "      <td>beige</td>\n",
       "      <td>kia motors america, inc</td>\n",
       "      <td>20800</td>\n",
       "      <td>21500</td>\n",
       "      <td>Tue Dec 16 2014 12:30:00 GMT-0800 (PST)</td>\n",
       "    </tr>\n",
       "    <tr>\n",
       "      <th>2</th>\n",
       "      <td>2014</td>\n",
       "      <td>BMW</td>\n",
       "      <td>3 Series</td>\n",
       "      <td>328i SULEV</td>\n",
       "      <td>Sedan</td>\n",
       "      <td>automatic</td>\n",
       "      <td>wba3c1c51ek116351</td>\n",
       "      <td>ca</td>\n",
       "      <td>4.5</td>\n",
       "      <td>1331.0</td>\n",
       "      <td>gray</td>\n",
       "      <td>black</td>\n",
       "      <td>financial services remarketing (lease)</td>\n",
       "      <td>31900</td>\n",
       "      <td>30000</td>\n",
       "      <td>Thu Jan 15 2015 04:30:00 GMT-0800 (PST)</td>\n",
       "    </tr>\n",
       "    <tr>\n",
       "      <th>3</th>\n",
       "      <td>2015</td>\n",
       "      <td>Volvo</td>\n",
       "      <td>S60</td>\n",
       "      <td>T5</td>\n",
       "      <td>Sedan</td>\n",
       "      <td>automatic</td>\n",
       "      <td>yv1612tb4f1310987</td>\n",
       "      <td>ca</td>\n",
       "      <td>4.1</td>\n",
       "      <td>14282.0</td>\n",
       "      <td>white</td>\n",
       "      <td>black</td>\n",
       "      <td>volvo na rep/world omni</td>\n",
       "      <td>27500</td>\n",
       "      <td>27750</td>\n",
       "      <td>Thu Jan 29 2015 04:30:00 GMT-0800 (PST)</td>\n",
       "    </tr>\n",
       "    <tr>\n",
       "      <th>4</th>\n",
       "      <td>2014</td>\n",
       "      <td>BMW</td>\n",
       "      <td>6 Series Gran Coupe</td>\n",
       "      <td>650i</td>\n",
       "      <td>Sedan</td>\n",
       "      <td>automatic</td>\n",
       "      <td>wba6b2c57ed129731</td>\n",
       "      <td>ca</td>\n",
       "      <td>4.3</td>\n",
       "      <td>2641.0</td>\n",
       "      <td>gray</td>\n",
       "      <td>black</td>\n",
       "      <td>financial services remarketing (lease)</td>\n",
       "      <td>66000</td>\n",
       "      <td>67000</td>\n",
       "      <td>Thu Dec 18 2014 12:30:00 GMT-0800 (PST)</td>\n",
       "    </tr>\n",
       "    <tr>\n",
       "      <th>5</th>\n",
       "      <td>2015</td>\n",
       "      <td>Nissan</td>\n",
       "      <td>Altima</td>\n",
       "      <td>2.5 S</td>\n",
       "      <td>Sedan</td>\n",
       "      <td>automatic</td>\n",
       "      <td>1n4al3ap1fn326013</td>\n",
       "      <td>ca</td>\n",
       "      <td>1.0</td>\n",
       "      <td>5554.0</td>\n",
       "      <td>gray</td>\n",
       "      <td>black</td>\n",
       "      <td>enterprise vehicle exchange / tra / rental / t...</td>\n",
       "      <td>15350</td>\n",
       "      <td>10900</td>\n",
       "      <td>Tue Dec 30 2014 12:00:00 GMT-0800 (PST)</td>\n",
       "    </tr>\n",
       "    <tr>\n",
       "      <th>6</th>\n",
       "      <td>2014</td>\n",
       "      <td>BMW</td>\n",
       "      <td>M5</td>\n",
       "      <td>Base</td>\n",
       "      <td>Sedan</td>\n",
       "      <td>automatic</td>\n",
       "      <td>wbsfv9c51ed593089</td>\n",
       "      <td>ca</td>\n",
       "      <td>3.4</td>\n",
       "      <td>14943.0</td>\n",
       "      <td>black</td>\n",
       "      <td>black</td>\n",
       "      <td>the hertz corporation</td>\n",
       "      <td>69000</td>\n",
       "      <td>65000</td>\n",
       "      <td>Wed Dec 17 2014 12:30:00 GMT-0800 (PST)</td>\n",
       "    </tr>\n",
       "    <tr>\n",
       "      <th>7</th>\n",
       "      <td>2014</td>\n",
       "      <td>Chevrolet</td>\n",
       "      <td>Cruze</td>\n",
       "      <td>1LT</td>\n",
       "      <td>Sedan</td>\n",
       "      <td>automatic</td>\n",
       "      <td>1g1pc5sb2e7128460</td>\n",
       "      <td>ca</td>\n",
       "      <td>2.0</td>\n",
       "      <td>28617.0</td>\n",
       "      <td>black</td>\n",
       "      <td>black</td>\n",
       "      <td>enterprise vehicle exchange / tra / rental / t...</td>\n",
       "      <td>11900</td>\n",
       "      <td>9800</td>\n",
       "      <td>Tue Dec 16 2014 13:00:00 GMT-0800 (PST)</td>\n",
       "    </tr>\n",
       "    <tr>\n",
       "      <th>8</th>\n",
       "      <td>2014</td>\n",
       "      <td>Audi</td>\n",
       "      <td>A4</td>\n",
       "      <td>2.0T Premium Plus quattro</td>\n",
       "      <td>Sedan</td>\n",
       "      <td>automatic</td>\n",
       "      <td>wauffafl3en030343</td>\n",
       "      <td>ca</td>\n",
       "      <td>4.2</td>\n",
       "      <td>9557.0</td>\n",
       "      <td>white</td>\n",
       "      <td>black</td>\n",
       "      <td>audi mission viejo</td>\n",
       "      <td>32100</td>\n",
       "      <td>32250</td>\n",
       "      <td>Thu Dec 18 2014 12:00:00 GMT-0800 (PST)</td>\n",
       "    </tr>\n",
       "    <tr>\n",
       "      <th>9</th>\n",
       "      <td>2014</td>\n",
       "      <td>Chevrolet</td>\n",
       "      <td>Camaro</td>\n",
       "      <td>LT</td>\n",
       "      <td>Convertible</td>\n",
       "      <td>automatic</td>\n",
       "      <td>2g1fb3d37e9218789</td>\n",
       "      <td>ca</td>\n",
       "      <td>3.0</td>\n",
       "      <td>4809.0</td>\n",
       "      <td>red</td>\n",
       "      <td>black</td>\n",
       "      <td>d/m auto sales inc</td>\n",
       "      <td>26300</td>\n",
       "      <td>17500</td>\n",
       "      <td>Tue Jan 20 2015 04:00:00 GMT-0800 (PST)</td>\n",
       "    </tr>\n",
       "  </tbody>\n",
       "</table>\n",
       "</div>"
      ],
      "text/plain": [
       "   year       make                model                       trim  \\\n",
       "0  2015        Kia              Sorento                         LX   \n",
       "1  2015        Kia              Sorento                         LX   \n",
       "2  2014        BMW             3 Series                 328i SULEV   \n",
       "3  2015      Volvo                  S60                         T5   \n",
       "4  2014        BMW  6 Series Gran Coupe                       650i   \n",
       "5  2015     Nissan               Altima                      2.5 S   \n",
       "6  2014        BMW                   M5                       Base   \n",
       "7  2014  Chevrolet                Cruze                        1LT   \n",
       "8  2014       Audi                   A4  2.0T Premium Plus quattro   \n",
       "9  2014  Chevrolet               Camaro                         LT   \n",
       "\n",
       "          body transmission                vin state  condition odometer  \\\n",
       "0          SUV    automatic  5xyktca69fg566472    ca        5.0  16639.0   \n",
       "1          SUV    automatic  5xyktca69fg561319    ca        5.0   9393.0   \n",
       "2        Sedan    automatic  wba3c1c51ek116351    ca        4.5   1331.0   \n",
       "3        Sedan    automatic  yv1612tb4f1310987    ca        4.1  14282.0   \n",
       "4        Sedan    automatic  wba6b2c57ed129731    ca        4.3   2641.0   \n",
       "5        Sedan    automatic  1n4al3ap1fn326013    ca        1.0   5554.0   \n",
       "6        Sedan    automatic  wbsfv9c51ed593089    ca        3.4  14943.0   \n",
       "7        Sedan    automatic  1g1pc5sb2e7128460    ca        2.0  28617.0   \n",
       "8        Sedan    automatic  wauffafl3en030343    ca        4.2   9557.0   \n",
       "9  Convertible    automatic  2g1fb3d37e9218789    ca        3.0   4809.0   \n",
       "\n",
       "   color interior                                             seller    mmr  \\\n",
       "0  white    black                            kia motors america, inc  20500   \n",
       "1  white    beige                            kia motors america, inc  20800   \n",
       "2   gray    black             financial services remarketing (lease)  31900   \n",
       "3  white    black                            volvo na rep/world omni  27500   \n",
       "4   gray    black             financial services remarketing (lease)  66000   \n",
       "5   gray    black  enterprise vehicle exchange / tra / rental / t...  15350   \n",
       "6  black    black                              the hertz corporation  69000   \n",
       "7  black    black  enterprise vehicle exchange / tra / rental / t...  11900   \n",
       "8  white    black                                 audi mission viejo  32100   \n",
       "9    red    black                                 d/m auto sales inc  26300   \n",
       "\n",
       "  sellingprice                                 saledate  \n",
       "0        21500  Tue Dec 16 2014 12:30:00 GMT-0800 (PST)  \n",
       "1        21500  Tue Dec 16 2014 12:30:00 GMT-0800 (PST)  \n",
       "2        30000  Thu Jan 15 2015 04:30:00 GMT-0800 (PST)  \n",
       "3        27750  Thu Jan 29 2015 04:30:00 GMT-0800 (PST)  \n",
       "4        67000  Thu Dec 18 2014 12:30:00 GMT-0800 (PST)  \n",
       "5        10900  Tue Dec 30 2014 12:00:00 GMT-0800 (PST)  \n",
       "6        65000  Wed Dec 17 2014 12:30:00 GMT-0800 (PST)  \n",
       "7         9800  Tue Dec 16 2014 13:00:00 GMT-0800 (PST)  \n",
       "8        32250  Thu Dec 18 2014 12:00:00 GMT-0800 (PST)  \n",
       "9        17500  Tue Jan 20 2015 04:00:00 GMT-0800 (PST)  "
      ]
     },
     "execution_count": 17,
     "metadata": {},
     "output_type": "execute_result"
    }
   ],
   "source": [
    "df.head(10)"
   ]
  },
  {
   "cell_type": "markdown",
   "id": "fba00202",
   "metadata": {},
   "source": [
    "> What most of the columns describe is self explanatory. Nearly all of the columns describe features that are relevant to our analysis, even the VIN is relevant, as some of the information encoded in it may affect vehicle price. (That information will be extracted & a new column created for it.) 'Seller' may be dropped as that will be diffucult, if not impossible to extract meaningful insight from it. Saledate may prove useful, as seasonality (month), day of week & time of day may play a role in the saleprice, however, that column must divided into several different features.\n",
    "\n",
    "Now, let's drop 'Seller' column:"
   ]
  },
  {
   "cell_type": "code",
   "execution_count": 24,
   "id": "acfb4d37",
   "metadata": {},
   "outputs": [],
   "source": [
    "df.drop(['seller'], axis=1, inplace=True)"
   ]
  },
  {
   "cell_type": "markdown",
   "id": "2988bd87",
   "metadata": {},
   "source": [
    "With the irrelevant column removed, we can proceed with cleaning & prepping the data. First, ensure that all of the info is formatted correctly:"
   ]
  },
  {
   "cell_type": "code",
   "execution_count": 25,
   "id": "93b67de5",
   "metadata": {},
   "outputs": [
    {
     "data": {
      "text/plain": [
       "year              int64\n",
       "make             object\n",
       "model            object\n",
       "trim             object\n",
       "body             object\n",
       "transmission     object\n",
       "vin              object\n",
       "state            object\n",
       "condition       float64\n",
       "odometer         object\n",
       "color            object\n",
       "interior         object\n",
       "mmr               int64\n",
       "sellingprice     object\n",
       "saledate         object\n",
       "dtype: object"
      ]
     },
     "execution_count": 25,
     "metadata": {},
     "output_type": "execute_result"
    }
   ],
   "source": [
    "df.dtypes"
   ]
  },
  {
   "cell_type": "markdown",
   "id": "63fd7bdd",
   "metadata": {},
   "source": [
    "> Several columns are present in the wrong data type: odometer, selling price & saledate. Of those 3, saledate is the only one that will not be transformed to numeric dtype, it will be changed to datetime."
   ]
  },
  {
   "cell_type": "code",
   "execution_count": 29,
   "id": "5ede8e35",
   "metadata": {},
   "outputs": [
    {
     "data": {
      "text/plain": [
       "<bound method Series.unique of 0         16639.0\n",
       "1          9393.0\n",
       "2          1331.0\n",
       "3         14282.0\n",
       "4          2641.0\n",
       "           ...   \n",
       "558806    18255.0\n",
       "558807    54393.0\n",
       "558808    50561.0\n",
       "558809    16658.0\n",
       "558810    15008.0\n",
       "Name: odometer, Length: 558811, dtype: object>"
      ]
     },
     "execution_count": 29,
     "metadata": {},
     "output_type": "execute_result"
    }
   ],
   "source": [
    "df['odometer']"
   ]
  },
  {
   "cell_type": "code",
   "execution_count": null,
   "id": "da94e5ae",
   "metadata": {},
   "outputs": [],
   "source": [
    "df.astype({odometer:})"
   ]
  }
 ],
 "metadata": {
  "kernelspec": {
   "display_name": "Python 3 (ipykernel)",
   "language": "python",
   "name": "python3"
  },
  "language_info": {
   "codemirror_mode": {
    "name": "ipython",
    "version": 3
   },
   "file_extension": ".py",
   "mimetype": "text/x-python",
   "name": "python",
   "nbconvert_exporter": "python",
   "pygments_lexer": "ipython3",
   "version": "3.11.5"
  }
 },
 "nbformat": 4,
 "nbformat_minor": 5
}
