{
 "cells": [
  {
   "cell_type": "markdown",
   "id": "48c6da79",
   "metadata": {},
   "source": [
    "# Used Car Auction Sales\n",
    "\n",
    "Elimelech Berlin  \n",
    "January 2024"
   ]
  },
  {
   "cell_type": "markdown",
   "id": "9d7e9903",
   "metadata": {},
   "source": [
    "## Context"
   ]
  },
  {
   "cell_type": "markdown",
   "id": "12dbe414",
   "metadata": {},
   "source": [
    "## Data"
   ]
  },
  {
   "cell_type": "markdown",
   "id": "c77ddc06",
   "metadata": {},
   "source": [
    "## EDA"
   ]
  },
  {
   "cell_type": "markdown",
   "id": "6faa2fbf",
   "metadata": {},
   "source": [
    "Imports:"
   ]
  },
  {
   "cell_type": "code",
   "execution_count": 1,
   "id": "dd2898ed",
   "metadata": {},
   "outputs": [],
   "source": [
    "import pandas as pd\n",
    "from datetime import date, time, datetime"
   ]
  },
  {
   "cell_type": "markdown",
   "id": "81864768",
   "metadata": {},
   "source": [
    "Load the data:\n",
    "(While running `pd.read_csv('data/car_prices.csv')`, this error was raised: 'ParserError: Error tokenizing data. C error: Expected 16 fields in line 408163, saw 17'). To fix the issue causing this, I examined the file in Notepad & found an error (extra comma in original csv file. So I edited it manually.)"
   ]
  },
  {
   "cell_type": "code",
   "execution_count": 2,
   "id": "55444efd",
   "metadata": {},
   "outputs": [
    {
     "name": "stderr",
     "output_type": "stream",
     "text": [
      "Skipping line 408163: expected 16 fields, saw 17\n",
      "Skipping line 417837: expected 16 fields, saw 17\n",
      "Skipping line 421291: expected 16 fields, saw 17\n",
      "Skipping line 424163: expected 16 fields, saw 17\n",
      "\n",
      "Skipping line 427042: expected 16 fields, saw 17\n",
      "Skipping line 427045: expected 16 fields, saw 17\n",
      "Skipping line 434426: expected 16 fields, saw 17\n",
      "Skipping line 444503: expected 16 fields, saw 17\n",
      "Skipping line 453796: expected 16 fields, saw 17\n",
      "\n",
      "Skipping line 461599: expected 16 fields, saw 17\n",
      "Skipping line 461614: expected 16 fields, saw 17\n",
      "\n",
      "Skipping line 492486: expected 16 fields, saw 17\n",
      "Skipping line 497010: expected 16 fields, saw 17\n",
      "Skipping line 497013: expected 16 fields, saw 17\n",
      "Skipping line 499085: expected 16 fields, saw 17\n",
      "Skipping line 501457: expected 16 fields, saw 17\n",
      "Skipping line 505301: expected 16 fields, saw 17\n",
      "Skipping line 505308: expected 16 fields, saw 17\n",
      "Skipping line 520463: expected 16 fields, saw 17\n",
      "\n",
      "Skipping line 528998: expected 16 fields, saw 17\n",
      "Skipping line 529011: expected 16 fields, saw 17\n",
      "Skipping line 529015: expected 16 fields, saw 17\n",
      "Skipping line 529624: expected 16 fields, saw 17\n",
      "Skipping line 548786: expected 16 fields, saw 17\n",
      "Skipping line 551224: expected 16 fields, saw 17\n",
      "Skipping line 554712: expected 16 fields, saw 17\n",
      "\n",
      "C:\\Users\\melec\\AppData\\Local\\Temp\\ipykernel_7656\\1126926176.py:2: DtypeWarning: Columns (9,14) have mixed types. Specify dtype option on import or set low_memory=False.\n",
      "  df = pd.read_csv('data/car_prices.csv', on_bad_lines='warn')\n"
     ]
    }
   ],
   "source": [
    "# load csv file into a dataframe, raise a warning when rows cannot be loaded\n",
    "df = pd.read_csv('data/car_prices.csv', on_bad_lines='warn')"
   ]
  },
  {
   "cell_type": "markdown",
   "id": "d64da992",
   "metadata": {},
   "source": [
    "> ~ 25 rows are dropped from the data\n",
    "\n",
    "Let's have a look at the shape of the data:"
   ]
  },
  {
   "cell_type": "code",
   "execution_count": 3,
   "id": "e277c999",
   "metadata": {},
   "outputs": [
    {
     "data": {
      "text/plain": [
       "(558811, 16)"
      ]
     },
     "execution_count": 3,
     "metadata": {},
     "output_type": "execute_result"
    }
   ],
   "source": [
    "df.shape"
   ]
  },
  {
   "cell_type": "markdown",
   "id": "b2ddf601",
   "metadata": {},
   "source": [
    "> There are 550k+ records describeed by 16 columns/features.\n",
    "\n",
    "To gain further understanding of the data, view colunm names & the first few rows of the data:"
   ]
  },
  {
   "cell_type": "code",
   "execution_count": 4,
   "id": "e8b3d7ba",
   "metadata": {},
   "outputs": [
    {
     "data": {
      "text/plain": [
       "Index(['year', 'make', 'model', 'trim', 'body', 'transmission', 'vin', 'state',\n",
       "       'condition', 'odometer', 'color', 'interior', 'seller', 'mmr',\n",
       "       'sellingprice', 'saledate'],\n",
       "      dtype='object')"
      ]
     },
     "execution_count": 4,
     "metadata": {},
     "output_type": "execute_result"
    }
   ],
   "source": [
    "df.columns"
   ]
  },
  {
   "cell_type": "code",
   "execution_count": 5,
   "id": "42830bff",
   "metadata": {},
   "outputs": [
    {
     "data": {
      "text/html": [
       "<div>\n",
       "<style scoped>\n",
       "    .dataframe tbody tr th:only-of-type {\n",
       "        vertical-align: middle;\n",
       "    }\n",
       "\n",
       "    .dataframe tbody tr th {\n",
       "        vertical-align: top;\n",
       "    }\n",
       "\n",
       "    .dataframe thead th {\n",
       "        text-align: right;\n",
       "    }\n",
       "</style>\n",
       "<table border=\"1\" class=\"dataframe\">\n",
       "  <thead>\n",
       "    <tr style=\"text-align: right;\">\n",
       "      <th></th>\n",
       "      <th>year</th>\n",
       "      <th>make</th>\n",
       "      <th>model</th>\n",
       "      <th>trim</th>\n",
       "      <th>body</th>\n",
       "      <th>transmission</th>\n",
       "      <th>vin</th>\n",
       "      <th>state</th>\n",
       "      <th>condition</th>\n",
       "      <th>odometer</th>\n",
       "      <th>color</th>\n",
       "      <th>interior</th>\n",
       "      <th>seller</th>\n",
       "      <th>mmr</th>\n",
       "      <th>sellingprice</th>\n",
       "      <th>saledate</th>\n",
       "    </tr>\n",
       "  </thead>\n",
       "  <tbody>\n",
       "    <tr>\n",
       "      <th>0</th>\n",
       "      <td>2015</td>\n",
       "      <td>Kia</td>\n",
       "      <td>Sorento</td>\n",
       "      <td>LX</td>\n",
       "      <td>SUV</td>\n",
       "      <td>automatic</td>\n",
       "      <td>5xyktca69fg566472</td>\n",
       "      <td>ca</td>\n",
       "      <td>5.0</td>\n",
       "      <td>16639.0</td>\n",
       "      <td>white</td>\n",
       "      <td>black</td>\n",
       "      <td>kia motors america, inc</td>\n",
       "      <td>20500</td>\n",
       "      <td>21500</td>\n",
       "      <td>Tue Dec 16 2014 12:30:00 GMT-0800 (PST)</td>\n",
       "    </tr>\n",
       "    <tr>\n",
       "      <th>1</th>\n",
       "      <td>2015</td>\n",
       "      <td>Kia</td>\n",
       "      <td>Sorento</td>\n",
       "      <td>LX</td>\n",
       "      <td>SUV</td>\n",
       "      <td>automatic</td>\n",
       "      <td>5xyktca69fg561319</td>\n",
       "      <td>ca</td>\n",
       "      <td>5.0</td>\n",
       "      <td>9393.0</td>\n",
       "      <td>white</td>\n",
       "      <td>beige</td>\n",
       "      <td>kia motors america, inc</td>\n",
       "      <td>20800</td>\n",
       "      <td>21500</td>\n",
       "      <td>Tue Dec 16 2014 12:30:00 GMT-0800 (PST)</td>\n",
       "    </tr>\n",
       "    <tr>\n",
       "      <th>2</th>\n",
       "      <td>2014</td>\n",
       "      <td>BMW</td>\n",
       "      <td>3 Series</td>\n",
       "      <td>328i SULEV</td>\n",
       "      <td>Sedan</td>\n",
       "      <td>automatic</td>\n",
       "      <td>wba3c1c51ek116351</td>\n",
       "      <td>ca</td>\n",
       "      <td>4.5</td>\n",
       "      <td>1331.0</td>\n",
       "      <td>gray</td>\n",
       "      <td>black</td>\n",
       "      <td>financial services remarketing (lease)</td>\n",
       "      <td>31900</td>\n",
       "      <td>30000</td>\n",
       "      <td>Thu Jan 15 2015 04:30:00 GMT-0800 (PST)</td>\n",
       "    </tr>\n",
       "    <tr>\n",
       "      <th>3</th>\n",
       "      <td>2015</td>\n",
       "      <td>Volvo</td>\n",
       "      <td>S60</td>\n",
       "      <td>T5</td>\n",
       "      <td>Sedan</td>\n",
       "      <td>automatic</td>\n",
       "      <td>yv1612tb4f1310987</td>\n",
       "      <td>ca</td>\n",
       "      <td>4.1</td>\n",
       "      <td>14282.0</td>\n",
       "      <td>white</td>\n",
       "      <td>black</td>\n",
       "      <td>volvo na rep/world omni</td>\n",
       "      <td>27500</td>\n",
       "      <td>27750</td>\n",
       "      <td>Thu Jan 29 2015 04:30:00 GMT-0800 (PST)</td>\n",
       "    </tr>\n",
       "    <tr>\n",
       "      <th>4</th>\n",
       "      <td>2014</td>\n",
       "      <td>BMW</td>\n",
       "      <td>6 Series Gran Coupe</td>\n",
       "      <td>650i</td>\n",
       "      <td>Sedan</td>\n",
       "      <td>automatic</td>\n",
       "      <td>wba6b2c57ed129731</td>\n",
       "      <td>ca</td>\n",
       "      <td>4.3</td>\n",
       "      <td>2641.0</td>\n",
       "      <td>gray</td>\n",
       "      <td>black</td>\n",
       "      <td>financial services remarketing (lease)</td>\n",
       "      <td>66000</td>\n",
       "      <td>67000</td>\n",
       "      <td>Thu Dec 18 2014 12:30:00 GMT-0800 (PST)</td>\n",
       "    </tr>\n",
       "  </tbody>\n",
       "</table>\n",
       "</div>"
      ],
      "text/plain": [
       "   year   make                model        trim   body transmission  \\\n",
       "0  2015    Kia              Sorento          LX    SUV    automatic   \n",
       "1  2015    Kia              Sorento          LX    SUV    automatic   \n",
       "2  2014    BMW             3 Series  328i SULEV  Sedan    automatic   \n",
       "3  2015  Volvo                  S60          T5  Sedan    automatic   \n",
       "4  2014    BMW  6 Series Gran Coupe        650i  Sedan    automatic   \n",
       "\n",
       "                 vin state  condition odometer  color interior  \\\n",
       "0  5xyktca69fg566472    ca        5.0  16639.0  white    black   \n",
       "1  5xyktca69fg561319    ca        5.0   9393.0  white    beige   \n",
       "2  wba3c1c51ek116351    ca        4.5   1331.0   gray    black   \n",
       "3  yv1612tb4f1310987    ca        4.1  14282.0  white    black   \n",
       "4  wba6b2c57ed129731    ca        4.3   2641.0   gray    black   \n",
       "\n",
       "                                   seller    mmr sellingprice  \\\n",
       "0                 kia motors america, inc  20500        21500   \n",
       "1                 kia motors america, inc  20800        21500   \n",
       "2  financial services remarketing (lease)  31900        30000   \n",
       "3                 volvo na rep/world omni  27500        27750   \n",
       "4  financial services remarketing (lease)  66000        67000   \n",
       "\n",
       "                                  saledate  \n",
       "0  Tue Dec 16 2014 12:30:00 GMT-0800 (PST)  \n",
       "1  Tue Dec 16 2014 12:30:00 GMT-0800 (PST)  \n",
       "2  Thu Jan 15 2015 04:30:00 GMT-0800 (PST)  \n",
       "3  Thu Jan 29 2015 04:30:00 GMT-0800 (PST)  \n",
       "4  Thu Dec 18 2014 12:30:00 GMT-0800 (PST)  "
      ]
     },
     "execution_count": 5,
     "metadata": {},
     "output_type": "execute_result"
    }
   ],
   "source": [
    "df.head()"
   ]
  },
  {
   "cell_type": "markdown",
   "id": "fba00202",
   "metadata": {},
   "source": [
    "> What most of the columns describe is self explanatory. Nearly all of the columns describe features that are relevant to our analysis, even the VIN is relevant, as some of the information encoded in it may affect vehicle price. (That information will be extracted & a new column created for it.) 'Seller' may be dropped as that will be diffucult, if not impossible to extract meaningful insight from it. Saledate may prove useful, as seasonality (month), day of week & time of day may play a role in the saleprice, however, that column must divided into several different features.\n",
    "\n",
    "Now, let's drop 'Seller' column:"
   ]
  },
  {
   "cell_type": "code",
   "execution_count": 6,
   "id": "acfb4d37",
   "metadata": {},
   "outputs": [],
   "source": [
    "df.drop(['seller'], axis=1, inplace=True)"
   ]
  },
  {
   "cell_type": "markdown",
   "id": "2988bd87",
   "metadata": {},
   "source": [
    "With the irrelevant column removed, we can proceed with cleaning & prepping the data. First, check for missing values:"
   ]
  },
  {
   "cell_type": "code",
   "execution_count": 7,
   "id": "66a39f92",
   "metadata": {},
   "outputs": [
    {
     "data": {
      "text/plain": [
       "year                0\n",
       "make            10301\n",
       "model           10399\n",
       "trim            10651\n",
       "body            13195\n",
       "transmission    65352\n",
       "vin                 0\n",
       "state               0\n",
       "condition       11794\n",
       "odometer           94\n",
       "color             749\n",
       "interior          749\n",
       "mmr                 0\n",
       "sellingprice        0\n",
       "saledate            1\n",
       "dtype: int64"
      ]
     },
     "execution_count": 7,
     "metadata": {},
     "output_type": "execute_result"
    }
   ],
   "source": [
    "df.isna().sum()"
   ]
  },
  {
   "cell_type": "markdown",
   "id": "5051d391",
   "metadata": {},
   "source": [
    "> There are several columns missing 10k+ values: make, model, trim, body, transmission, condition. Let's investigate this further by investigating if the above missing values are present in the same rows:"
   ]
  },
  {
   "cell_type": "code",
   "execution_count": 8,
   "id": "f961bc07",
   "metadata": {},
   "outputs": [
    {
     "data": {
      "text/plain": [
       "year                0\n",
       "make            10301\n",
       "model           10301\n",
       "trim            10301\n",
       "body            10301\n",
       "transmission     1761\n",
       "vin                 0\n",
       "state               0\n",
       "condition          87\n",
       "odometer            4\n",
       "color              15\n",
       "interior           15\n",
       "mmr                 0\n",
       "sellingprice        0\n",
       "saledate            0\n",
       "dtype: int64"
      ]
     },
     "execution_count": 8,
     "metadata": {},
     "output_type": "execute_result"
    }
   ],
   "source": [
    "df[df['make'].isna()].isna().sum()"
   ]
  },
  {
   "cell_type": "markdown",
   "id": "22edb60a",
   "metadata": {},
   "source": [
    "> We see many rows are missing information in several colmns. The missing information is likely essential to our undersstanding of what drives value for the vehicles & we can't learn enough info without it. Although some of the missing information can be derived from VINs of those cars, we will drop those records from the dataframe & exclude them from this analysis."
   ]
  },
  {
   "cell_type": "code",
   "execution_count": 9,
   "id": "7320897c",
   "metadata": {},
   "outputs": [],
   "source": [
    "# create new dataframe without null values\n",
    "df2 = df.dropna().reset_index()"
   ]
  },
  {
   "cell_type": "markdown",
   "id": "16178a72",
   "metadata": {},
   "source": [
    "Let's now have a look at the datatypes present in the dataset:"
   ]
  },
  {
   "cell_type": "code",
   "execution_count": 10,
   "id": "93b67de5",
   "metadata": {},
   "outputs": [
    {
     "data": {
      "text/plain": [
       "index             int64\n",
       "year              int64\n",
       "make             object\n",
       "model            object\n",
       "trim             object\n",
       "body             object\n",
       "transmission     object\n",
       "vin              object\n",
       "state            object\n",
       "condition       float64\n",
       "odometer         object\n",
       "color            object\n",
       "interior         object\n",
       "mmr               int64\n",
       "sellingprice     object\n",
       "saledate         object\n",
       "dtype: object"
      ]
     },
     "execution_count": 10,
     "metadata": {},
     "output_type": "execute_result"
    }
   ],
   "source": [
    "df2.dtypes"
   ]
  },
  {
   "cell_type": "markdown",
   "id": "63fd7bdd",
   "metadata": {},
   "source": [
    "> Several columns are present in the wrong data type: odometer, selling price & saledate. Of those 3, saledate is the only one that will not be transformed to numeric dtype, it will be changed to datetime.  \n",
    "\n",
    "To deal with these columns, lets's begin with column 'odometer'. Examine individual vales to learn if the entire column is non-numeric (which can be addresed by a simple transformation of dtype) or if there are problems with specific values:"
   ]
  },
  {
   "cell_type": "code",
   "execution_count": 11,
   "id": "2d155637",
   "metadata": {},
   "outputs": [
    {
     "data": {
      "text/plain": [
       "float"
      ]
     },
     "execution_count": 11,
     "metadata": {},
     "output_type": "execute_result"
    }
   ],
   "source": [
    "type(df2.iloc[22265]['odometer'])"
   ]
  },
  {
   "cell_type": "markdown",
   "id": "8ad3be53",
   "metadata": {},
   "source": [
    "> The above output shows that there are numeric-types present in the column, which indicates that non-numeric dtypes are likely a result of incorrectly saved values. To deal with this, first attempt to simply change the datatype:"
   ]
  },
  {
   "cell_type": "code",
   "execution_count": 12,
   "id": "431e8a3a",
   "metadata": {},
   "outputs": [],
   "source": [
    "df2['odometer'] = pd.to_numeric(df2['odometer'])"
   ]
  },
  {
   "cell_type": "code",
   "execution_count": 13,
   "id": "059cc6b1",
   "metadata": {},
   "outputs": [
    {
     "data": {
      "text/plain": [
       "dtype('float64')"
      ]
     },
     "execution_count": 13,
     "metadata": {},
     "output_type": "execute_result"
    }
   ],
   "source": [
    "df2.odometer.dtypes"
   ]
  },
  {
   "cell_type": "markdown",
   "id": "415cbf4f",
   "metadata": {},
   "source": [
    "> That seems to have solved the problem, as everything was converted without any errors.\n",
    "\n",
    "Now, let's attempt the same solution for sellingprice:"
   ]
  },
  {
   "cell_type": "code",
   "execution_count": 14,
   "id": "7a2ddc0a",
   "metadata": {},
   "outputs": [],
   "source": [
    "df2['sellingprice'] = pd.to_numeric(df2['sellingprice'])"
   ]
  },
  {
   "cell_type": "code",
   "execution_count": 15,
   "id": "3d76c8b8",
   "metadata": {},
   "outputs": [
    {
     "data": {
      "text/plain": [
       "dtype('int64')"
      ]
     },
     "execution_count": 15,
     "metadata": {},
     "output_type": "execute_result"
    }
   ],
   "source": [
    "df2.sellingprice.dtypes"
   ]
  },
  {
   "cell_type": "markdown",
   "id": "975122d7",
   "metadata": {},
   "source": [
    "> With the numeric type columns succesfully converted, let's transform the 'saledate' column to datetime-like type.\n",
    "\n",
    "First, view dtypes present in the column, & then view an example:"
   ]
  },
  {
   "cell_type": "code",
   "execution_count": 16,
   "id": "0b0e047d",
   "metadata": {},
   "outputs": [
    {
     "data": {
      "text/plain": [
       "dtype('O')"
      ]
     },
     "execution_count": 16,
     "metadata": {},
     "output_type": "execute_result"
    }
   ],
   "source": [
    "# view datatypes present in the column\n",
    "df2.saledate.dtypes"
   ]
  },
  {
   "cell_type": "markdown",
   "id": "b5d39212",
   "metadata": {},
   "source": [
    "> That worked without a problem.\n",
    "\n",
    "Proceed to replace the original column with a transformed version. To correctly format the format string used as an argument to the datetime.strptime method, preview the saletime value for one of the rows:"
   ]
  },
  {
   "cell_type": "code",
   "execution_count": 21,
   "id": "7d1803c6",
   "metadata": {
    "scrolled": true
   },
   "outputs": [
    {
     "data": {
      "text/plain": [
       "str"
      ]
     },
     "execution_count": 21,
     "metadata": {},
     "output_type": "execute_result"
    }
   ],
   "source": [
    "print(df2['saledate'][26846])\n",
    "type(df2['saledate'][26846])"
   ]
  },
  {
   "cell_type": "markdown",
   "id": "8898629c",
   "metadata": {},
   "source": [
    "> The above output shows that the data in saledate is a string. Let's proceed to transform it to a datetime object:"
   ]
  },
  {
   "cell_type": "code",
   "execution_count": 25,
   "id": "a227c337",
   "metadata": {},
   "outputs": [],
   "source": [
    "df2['saledate'] = [datetime.strptime(d.replace(' (PST)', '').replace(' (PDT)', ''), \"%a %b %d %Y %H:%M:%S GMT%z\") for d in df2['saledate']]"
   ]
  },
  {
   "cell_type": "markdown",
   "id": "7bedee19",
   "metadata": {},
   "source": [
    "Now, iterate through every saledate to ensure correct ransformation:"
   ]
  },
  {
   "cell_type": "code",
   "execution_count": 42,
   "id": "3a690e93",
   "metadata": {},
   "outputs": [],
   "source": [
    "for i in df2.index:\n",
    "    if not isinstance(df2['saledate'][i], datetime):\n",
    "        print(type(df2['saledate'][i]))"
   ]
  },
  {
   "cell_type": "markdown",
   "id": "a77fa983",
   "metadata": {},
   "source": [
    "Let's check for duplicated rows. Although there may be some redundancy in column 'vin', this may result from multiple sales for a single vehicle."
   ]
  },
  {
   "cell_type": "code",
   "execution_count": null,
   "id": "0371adc1",
   "metadata": {},
   "outputs": [],
   "source": [
    "df2.duplicated(subset='vin').sum()"
   ]
  },
  {
   "cell_type": "markdown",
   "id": "fc46f44f",
   "metadata": {},
   "source": [
    "> There are multiple vehicles listed more than once. Now, check if the features are all the same:"
   ]
  },
  {
   "cell_type": "code",
   "execution_count": null,
   "id": "f28a5f9e",
   "metadata": {},
   "outputs": [],
   "source": [
    "df2.duplicated().sum()"
   ]
  }
 ],
 "metadata": {
  "kernelspec": {
   "display_name": "Python 3 (ipykernel)",
   "language": "python",
   "name": "python3"
  },
  "language_info": {
   "codemirror_mode": {
    "name": "ipython",
    "version": 3
   },
   "file_extension": ".py",
   "mimetype": "text/x-python",
   "name": "python",
   "nbconvert_exporter": "python",
   "pygments_lexer": "ipython3",
   "version": "3.11.5"
  }
 },
 "nbformat": 4,
 "nbformat_minor": 5
}
