{
 "cells": [
  {
   "cell_type": "markdown",
   "id": "48c6da79",
   "metadata": {},
   "source": [
    "# Used Car Auction Sales\n",
    "\n",
    "Elimelech Berlin  \n",
    "January 2024"
   ]
  },
  {
   "cell_type": "markdown",
   "id": "9d7e9903",
   "metadata": {},
   "source": [
    "## Context"
   ]
  },
  {
   "cell_type": "markdown",
   "id": "12dbe414",
   "metadata": {},
   "source": [
    "## Data"
   ]
  },
  {
   "cell_type": "markdown",
   "id": "c77ddc06",
   "metadata": {},
   "source": [
    "## EDA"
   ]
  },
  {
   "cell_type": "markdown",
   "id": "6faa2fbf",
   "metadata": {},
   "source": [
    "Imports:"
   ]
  },
  {
   "cell_type": "code",
   "execution_count": 1,
   "id": "dd2898ed",
   "metadata": {},
   "outputs": [],
   "source": [
    "import pandas as pd\n",
    "from datetime import date, time, datetime"
   ]
  },
  {
   "cell_type": "markdown",
   "id": "81864768",
   "metadata": {},
   "source": [
    "Load the data:\n",
    "(While running `pd.read_csv('data/car_prices.csv')`, this error was raised: 'ParserError: Error tokenizing data. C error: Expected 16 fields in line 408163, saw 17'). To fix the issue causing this, I examined the file in Notepad & found an error (extra comma in original csv file. So I edited it manually.)"
   ]
  },
  {
   "cell_type": "code",
   "execution_count": 2,
   "id": "55444efd",
   "metadata": {},
   "outputs": [
    {
     "name": "stderr",
     "output_type": "stream",
     "text": [
      "Skipping line 408163: expected 16 fields, saw 17\n",
      "Skipping line 417837: expected 16 fields, saw 17\n",
      "Skipping line 421291: expected 16 fields, saw 17\n",
      "Skipping line 424163: expected 16 fields, saw 17\n",
      "\n",
      "Skipping line 427042: expected 16 fields, saw 17\n",
      "Skipping line 427045: expected 16 fields, saw 17\n",
      "Skipping line 434426: expected 16 fields, saw 17\n",
      "Skipping line 444503: expected 16 fields, saw 17\n",
      "Skipping line 453796: expected 16 fields, saw 17\n",
      "\n",
      "Skipping line 461599: expected 16 fields, saw 17\n",
      "Skipping line 461614: expected 16 fields, saw 17\n",
      "\n",
      "Skipping line 492486: expected 16 fields, saw 17\n",
      "Skipping line 497010: expected 16 fields, saw 17\n",
      "Skipping line 497013: expected 16 fields, saw 17\n",
      "Skipping line 499085: expected 16 fields, saw 17\n",
      "Skipping line 501457: expected 16 fields, saw 17\n",
      "Skipping line 505301: expected 16 fields, saw 17\n",
      "Skipping line 505308: expected 16 fields, saw 17\n",
      "Skipping line 520463: expected 16 fields, saw 17\n",
      "\n",
      "Skipping line 528998: expected 16 fields, saw 17\n",
      "Skipping line 529011: expected 16 fields, saw 17\n",
      "Skipping line 529015: expected 16 fields, saw 17\n",
      "Skipping line 529624: expected 16 fields, saw 17\n",
      "Skipping line 548786: expected 16 fields, saw 17\n",
      "Skipping line 551224: expected 16 fields, saw 17\n",
      "Skipping line 554712: expected 16 fields, saw 17\n",
      "\n",
      "C:\\Users\\melec\\AppData\\Local\\Temp\\ipykernel_8720\\1126926176.py:2: DtypeWarning: Columns (9,14) have mixed types. Specify dtype option on import or set low_memory=False.\n",
      "  df = pd.read_csv('data/car_prices.csv', on_bad_lines='warn')\n"
     ]
    }
   ],
   "source": [
    "# load csv file into a dataframe, raise a warning when rows cannot be loaded\n",
    "df = pd.read_csv('data/car_prices.csv', on_bad_lines='warn')"
   ]
  },
  {
   "cell_type": "markdown",
   "id": "d64da992",
   "metadata": {},
   "source": [
    "> ~ 25 rows are dropped from the data\n",
    "\n",
    "Let's have a look at the shape of the data:"
   ]
  },
  {
   "cell_type": "code",
   "execution_count": 3,
   "id": "e277c999",
   "metadata": {},
   "outputs": [
    {
     "data": {
      "text/plain": [
       "(558811, 16)"
      ]
     },
     "execution_count": 3,
     "metadata": {},
     "output_type": "execute_result"
    }
   ],
   "source": [
    "df.shape"
   ]
  },
  {
   "cell_type": "markdown",
   "id": "b2ddf601",
   "metadata": {},
   "source": [
    "> There are 550k+ records describeed by 16 columns/features.\n",
    "\n",
    "To gain further understanding of the data, view colunm names & the first few rows of the data:"
   ]
  },
  {
   "cell_type": "code",
   "execution_count": 4,
   "id": "e8b3d7ba",
   "metadata": {},
   "outputs": [
    {
     "data": {
      "text/plain": [
       "Index(['year', 'make', 'model', 'trim', 'body', 'transmission', 'vin', 'state',\n",
       "       'condition', 'odometer', 'color', 'interior', 'seller', 'mmr',\n",
       "       'sellingprice', 'saledate'],\n",
       "      dtype='object')"
      ]
     },
     "execution_count": 4,
     "metadata": {},
     "output_type": "execute_result"
    }
   ],
   "source": [
    "df.columns"
   ]
  },
  {
   "cell_type": "code",
   "execution_count": 5,
   "id": "42830bff",
   "metadata": {},
   "outputs": [
    {
     "data": {
      "text/html": [
       "<div>\n",
       "<style scoped>\n",
       "    .dataframe tbody tr th:only-of-type {\n",
       "        vertical-align: middle;\n",
       "    }\n",
       "\n",
       "    .dataframe tbody tr th {\n",
       "        vertical-align: top;\n",
       "    }\n",
       "\n",
       "    .dataframe thead th {\n",
       "        text-align: right;\n",
       "    }\n",
       "</style>\n",
       "<table border=\"1\" class=\"dataframe\">\n",
       "  <thead>\n",
       "    <tr style=\"text-align: right;\">\n",
       "      <th></th>\n",
       "      <th>year</th>\n",
       "      <th>make</th>\n",
       "      <th>model</th>\n",
       "      <th>trim</th>\n",
       "      <th>body</th>\n",
       "      <th>transmission</th>\n",
       "      <th>vin</th>\n",
       "      <th>state</th>\n",
       "      <th>condition</th>\n",
       "      <th>odometer</th>\n",
       "      <th>color</th>\n",
       "      <th>interior</th>\n",
       "      <th>seller</th>\n",
       "      <th>mmr</th>\n",
       "      <th>sellingprice</th>\n",
       "      <th>saledate</th>\n",
       "    </tr>\n",
       "  </thead>\n",
       "  <tbody>\n",
       "    <tr>\n",
       "      <th>0</th>\n",
       "      <td>2015</td>\n",
       "      <td>Kia</td>\n",
       "      <td>Sorento</td>\n",
       "      <td>LX</td>\n",
       "      <td>SUV</td>\n",
       "      <td>automatic</td>\n",
       "      <td>5xyktca69fg566472</td>\n",
       "      <td>ca</td>\n",
       "      <td>5.0</td>\n",
       "      <td>16639.0</td>\n",
       "      <td>white</td>\n",
       "      <td>black</td>\n",
       "      <td>kia motors america, inc</td>\n",
       "      <td>20500</td>\n",
       "      <td>21500</td>\n",
       "      <td>Tue Dec 16 2014 12:30:00 GMT-0800 (PST)</td>\n",
       "    </tr>\n",
       "    <tr>\n",
       "      <th>1</th>\n",
       "      <td>2015</td>\n",
       "      <td>Kia</td>\n",
       "      <td>Sorento</td>\n",
       "      <td>LX</td>\n",
       "      <td>SUV</td>\n",
       "      <td>automatic</td>\n",
       "      <td>5xyktca69fg561319</td>\n",
       "      <td>ca</td>\n",
       "      <td>5.0</td>\n",
       "      <td>9393.0</td>\n",
       "      <td>white</td>\n",
       "      <td>beige</td>\n",
       "      <td>kia motors america, inc</td>\n",
       "      <td>20800</td>\n",
       "      <td>21500</td>\n",
       "      <td>Tue Dec 16 2014 12:30:00 GMT-0800 (PST)</td>\n",
       "    </tr>\n",
       "    <tr>\n",
       "      <th>2</th>\n",
       "      <td>2014</td>\n",
       "      <td>BMW</td>\n",
       "      <td>3 Series</td>\n",
       "      <td>328i SULEV</td>\n",
       "      <td>Sedan</td>\n",
       "      <td>automatic</td>\n",
       "      <td>wba3c1c51ek116351</td>\n",
       "      <td>ca</td>\n",
       "      <td>4.5</td>\n",
       "      <td>1331.0</td>\n",
       "      <td>gray</td>\n",
       "      <td>black</td>\n",
       "      <td>financial services remarketing (lease)</td>\n",
       "      <td>31900</td>\n",
       "      <td>30000</td>\n",
       "      <td>Thu Jan 15 2015 04:30:00 GMT-0800 (PST)</td>\n",
       "    </tr>\n",
       "    <tr>\n",
       "      <th>3</th>\n",
       "      <td>2015</td>\n",
       "      <td>Volvo</td>\n",
       "      <td>S60</td>\n",
       "      <td>T5</td>\n",
       "      <td>Sedan</td>\n",
       "      <td>automatic</td>\n",
       "      <td>yv1612tb4f1310987</td>\n",
       "      <td>ca</td>\n",
       "      <td>4.1</td>\n",
       "      <td>14282.0</td>\n",
       "      <td>white</td>\n",
       "      <td>black</td>\n",
       "      <td>volvo na rep/world omni</td>\n",
       "      <td>27500</td>\n",
       "      <td>27750</td>\n",
       "      <td>Thu Jan 29 2015 04:30:00 GMT-0800 (PST)</td>\n",
       "    </tr>\n",
       "    <tr>\n",
       "      <th>4</th>\n",
       "      <td>2014</td>\n",
       "      <td>BMW</td>\n",
       "      <td>6 Series Gran Coupe</td>\n",
       "      <td>650i</td>\n",
       "      <td>Sedan</td>\n",
       "      <td>automatic</td>\n",
       "      <td>wba6b2c57ed129731</td>\n",
       "      <td>ca</td>\n",
       "      <td>4.3</td>\n",
       "      <td>2641.0</td>\n",
       "      <td>gray</td>\n",
       "      <td>black</td>\n",
       "      <td>financial services remarketing (lease)</td>\n",
       "      <td>66000</td>\n",
       "      <td>67000</td>\n",
       "      <td>Thu Dec 18 2014 12:30:00 GMT-0800 (PST)</td>\n",
       "    </tr>\n",
       "  </tbody>\n",
       "</table>\n",
       "</div>"
      ],
      "text/plain": [
       "   year   make                model        trim   body transmission  \\\n",
       "0  2015    Kia              Sorento          LX    SUV    automatic   \n",
       "1  2015    Kia              Sorento          LX    SUV    automatic   \n",
       "2  2014    BMW             3 Series  328i SULEV  Sedan    automatic   \n",
       "3  2015  Volvo                  S60          T5  Sedan    automatic   \n",
       "4  2014    BMW  6 Series Gran Coupe        650i  Sedan    automatic   \n",
       "\n",
       "                 vin state  condition odometer  color interior  \\\n",
       "0  5xyktca69fg566472    ca        5.0  16639.0  white    black   \n",
       "1  5xyktca69fg561319    ca        5.0   9393.0  white    beige   \n",
       "2  wba3c1c51ek116351    ca        4.5   1331.0   gray    black   \n",
       "3  yv1612tb4f1310987    ca        4.1  14282.0  white    black   \n",
       "4  wba6b2c57ed129731    ca        4.3   2641.0   gray    black   \n",
       "\n",
       "                                   seller    mmr sellingprice  \\\n",
       "0                 kia motors america, inc  20500        21500   \n",
       "1                 kia motors america, inc  20800        21500   \n",
       "2  financial services remarketing (lease)  31900        30000   \n",
       "3                 volvo na rep/world omni  27500        27750   \n",
       "4  financial services remarketing (lease)  66000        67000   \n",
       "\n",
       "                                  saledate  \n",
       "0  Tue Dec 16 2014 12:30:00 GMT-0800 (PST)  \n",
       "1  Tue Dec 16 2014 12:30:00 GMT-0800 (PST)  \n",
       "2  Thu Jan 15 2015 04:30:00 GMT-0800 (PST)  \n",
       "3  Thu Jan 29 2015 04:30:00 GMT-0800 (PST)  \n",
       "4  Thu Dec 18 2014 12:30:00 GMT-0800 (PST)  "
      ]
     },
     "execution_count": 5,
     "metadata": {},
     "output_type": "execute_result"
    }
   ],
   "source": [
    "df.head()"
   ]
  },
  {
   "cell_type": "markdown",
   "id": "fba00202",
   "metadata": {},
   "source": [
    "> What most of the columns describe is self explanatory. Nearly all of the columns describe features that are relevant to our analysis, even the VIN is relevant, as some of the information encoded in it may affect vehicle price. (That information will be extracted & a new column created for it.) 'Seller' may be dropped as that will be diffucult, if not impossible to extract meaningful insight from it. Saledate may prove useful, as seasonality (month), day of week & time of day may play a role in the saleprice, however, that column must divided into several different features.\n",
    "\n",
    "Now, let's drop 'Seller' column:"
   ]
  },
  {
   "cell_type": "code",
   "execution_count": 6,
   "id": "acfb4d37",
   "metadata": {},
   "outputs": [],
   "source": [
    "df.drop(['seller'], axis=1, inplace=True)"
   ]
  },
  {
   "cell_type": "markdown",
   "id": "2988bd87",
   "metadata": {},
   "source": [
    "With the irrelevant column removed, we can proceed with cleaning & prepping the data. First, check for missing values:"
   ]
  },
  {
   "cell_type": "code",
   "execution_count": 7,
   "id": "66a39f92",
   "metadata": {},
   "outputs": [
    {
     "data": {
      "text/plain": [
       "year                0\n",
       "make            10301\n",
       "model           10399\n",
       "trim            10651\n",
       "body            13195\n",
       "transmission    65352\n",
       "vin                 0\n",
       "state               0\n",
       "condition       11794\n",
       "odometer           94\n",
       "color             749\n",
       "interior          749\n",
       "mmr                 0\n",
       "sellingprice        0\n",
       "saledate            1\n",
       "dtype: int64"
      ]
     },
     "execution_count": 7,
     "metadata": {},
     "output_type": "execute_result"
    }
   ],
   "source": [
    "df.isna().sum()"
   ]
  },
  {
   "cell_type": "markdown",
   "id": "5051d391",
   "metadata": {},
   "source": [
    "> There are several columns missing 10k+ values: make, model, trim, body, transmission, condition. Let's investigate this further by investigating if the above missing values are present in the same rows:"
   ]
  },
  {
   "cell_type": "code",
   "execution_count": 8,
   "id": "f961bc07",
   "metadata": {},
   "outputs": [
    {
     "data": {
      "text/plain": [
       "year                0\n",
       "make            10301\n",
       "model           10301\n",
       "trim            10301\n",
       "body            10301\n",
       "transmission     1761\n",
       "vin                 0\n",
       "state               0\n",
       "condition          87\n",
       "odometer            4\n",
       "color              15\n",
       "interior           15\n",
       "mmr                 0\n",
       "sellingprice        0\n",
       "saledate            0\n",
       "dtype: int64"
      ]
     },
     "execution_count": 8,
     "metadata": {},
     "output_type": "execute_result"
    }
   ],
   "source": [
    "df[df['make'].isna()].isna().sum()"
   ]
  },
  {
   "cell_type": "markdown",
   "id": "22edb60a",
   "metadata": {},
   "source": [
    "> We see many rows are missing information in several colmns. The missing information is likely essential to our undersstanding of what drives value for the vehicles & we can't learn enough info without it. Although some of the missing information can be derived from VINs of those cars, we will drop those records from the dataframe & exclude them from this analysis."
   ]
  },
  {
   "cell_type": "code",
   "execution_count": 31,
   "id": "7320897c",
   "metadata": {},
   "outputs": [],
   "source": [
    "# create new dataframe without null values\n",
    "df2 = df.dropna().reset_index(drop=True)"
   ]
  },
  {
   "cell_type": "markdown",
   "id": "16178a72",
   "metadata": {},
   "source": [
    "Let's now have a look at the datatypes present in the dataset:"
   ]
  },
  {
   "cell_type": "code",
   "execution_count": 32,
   "id": "93b67de5",
   "metadata": {},
   "outputs": [
    {
     "data": {
      "text/plain": [
       "year              int64\n",
       "make             object\n",
       "model            object\n",
       "trim             object\n",
       "body             object\n",
       "transmission     object\n",
       "vin              object\n",
       "state            object\n",
       "condition       float64\n",
       "odometer         object\n",
       "color            object\n",
       "interior         object\n",
       "mmr               int64\n",
       "sellingprice     object\n",
       "saledate         object\n",
       "dtype: object"
      ]
     },
     "execution_count": 32,
     "metadata": {},
     "output_type": "execute_result"
    }
   ],
   "source": [
    "df2.dtypes"
   ]
  },
  {
   "cell_type": "markdown",
   "id": "63fd7bdd",
   "metadata": {},
   "source": [
    "> Several columns are present in the wrong data type: odometer, selling price & saledate. Of those 3, saledate is the only one that will not be transformed to numeric dtype, it will be changed to datetime.  \n",
    "\n",
    "To deal with these columns, lets's begin with column 'odometer'. Examine individual values to learn if the entire column is non-numeric (which can be addresed by a simple transformation of dtype) or if there are problems with specific values:"
   ]
  },
  {
   "cell_type": "code",
   "execution_count": 33,
   "id": "2d155637",
   "metadata": {},
   "outputs": [
    {
     "data": {
      "text/plain": [
       "float"
      ]
     },
     "execution_count": 33,
     "metadata": {},
     "output_type": "execute_result"
    }
   ],
   "source": [
    "type(df2.iloc[22265]['odometer'])"
   ]
  },
  {
   "cell_type": "markdown",
   "id": "8ad3be53",
   "metadata": {},
   "source": [
    "> The above output shows that there are numeric-types present in the column, which indicates that non-numeric dtypes are likely a result of incorrectly saved values. To deal with this, first attempt to simply change the datatype:"
   ]
  },
  {
   "cell_type": "code",
   "execution_count": 34,
   "id": "431e8a3a",
   "metadata": {},
   "outputs": [],
   "source": [
    "df2['odometer'] = pd.to_numeric(df2['odometer'])"
   ]
  },
  {
   "cell_type": "code",
   "execution_count": 35,
   "id": "059cc6b1",
   "metadata": {},
   "outputs": [
    {
     "data": {
      "text/plain": [
       "dtype('float64')"
      ]
     },
     "execution_count": 35,
     "metadata": {},
     "output_type": "execute_result"
    }
   ],
   "source": [
    "df2.odometer.dtypes"
   ]
  },
  {
   "cell_type": "markdown",
   "id": "415cbf4f",
   "metadata": {},
   "source": [
    "> That seems to have solved the problem, as everything was converted without any errors.\n",
    "\n",
    "Now, let's attempt the same solution for sellingprice:"
   ]
  },
  {
   "cell_type": "code",
   "execution_count": 36,
   "id": "7a2ddc0a",
   "metadata": {},
   "outputs": [],
   "source": [
    "df2['sellingprice'] = pd.to_numeric(df2['sellingprice'])"
   ]
  },
  {
   "cell_type": "code",
   "execution_count": 37,
   "id": "3d76c8b8",
   "metadata": {},
   "outputs": [
    {
     "data": {
      "text/plain": [
       "dtype('int64')"
      ]
     },
     "execution_count": 37,
     "metadata": {},
     "output_type": "execute_result"
    }
   ],
   "source": [
    "df2.sellingprice.dtypes"
   ]
  },
  {
   "cell_type": "markdown",
   "id": "975122d7",
   "metadata": {},
   "source": [
    "> With the numeric type columns succesfully converted, let's transform the 'saledate' column to datetime-like type.\n",
    "\n",
    "First, view dtypes present in the column, & then view an example:"
   ]
  },
  {
   "cell_type": "code",
   "execution_count": 38,
   "id": "0b0e047d",
   "metadata": {},
   "outputs": [
    {
     "data": {
      "text/plain": [
       "dtype('O')"
      ]
     },
     "execution_count": 38,
     "metadata": {},
     "output_type": "execute_result"
    }
   ],
   "source": [
    "# view datatypes present in the column\n",
    "df2.saledate.dtypes"
   ]
  },
  {
   "cell_type": "markdown",
   "id": "b5d39212",
   "metadata": {},
   "source": [
    "> That worked without a problem.\n",
    "\n",
    "Proceed to replace the original column with a transformed version. To correctly format the format string used as an argument to the datetime.strptime method, preview the saletime value for one of the rows:"
   ]
  },
  {
   "cell_type": "code",
   "execution_count": 39,
   "id": "7d1803c6",
   "metadata": {
    "scrolled": true
   },
   "outputs": [
    {
     "name": "stdout",
     "output_type": "stream",
     "text": [
      "Thu Jan 22 2015 06:30:00 GMT-0800 (PST)\n"
     ]
    },
    {
     "data": {
      "text/plain": [
       "str"
      ]
     },
     "execution_count": 39,
     "metadata": {},
     "output_type": "execute_result"
    }
   ],
   "source": [
    "print(df2['saledate'][26846])\n",
    "type(df2['saledate'][26846])"
   ]
  },
  {
   "cell_type": "markdown",
   "id": "8898629c",
   "metadata": {},
   "source": [
    "> The above output shows that the data in saledate is a string. Let's proceed to transform it to a datetime object:"
   ]
  },
  {
   "cell_type": "code",
   "execution_count": 40,
   "id": "a227c337",
   "metadata": {},
   "outputs": [],
   "source": [
    "df2['saledate'] = [datetime.strptime(d.replace(' (PST)', '').replace(' (PDT)', ''), \"%a %b %d %Y %H:%M:%S GMT%z\") for d in df2['saledate']]"
   ]
  },
  {
   "cell_type": "markdown",
   "id": "7bedee19",
   "metadata": {},
   "source": [
    "Now, iterate through every saledate to ensure correct transformation:"
   ]
  },
  {
   "cell_type": "code",
   "execution_count": 41,
   "id": "3a690e93",
   "metadata": {},
   "outputs": [],
   "source": [
    "for i in df2.index:\n",
    "    if not isinstance(df2['saledate'][i], datetime):\n",
    "        print(type(df2['saledate'][i]))"
   ]
  },
  {
   "cell_type": "markdown",
   "id": "a77fa983",
   "metadata": {},
   "source": [
    "Let's check for duplicated rows. Although there may be some redundancy in column 'vin', this may result from multiple sales for a single vehicle."
   ]
  },
  {
   "cell_type": "code",
   "execution_count": 42,
   "id": "0371adc1",
   "metadata": {},
   "outputs": [
    {
     "data": {
      "text/plain": [
       "6557"
      ]
     },
     "execution_count": 42,
     "metadata": {},
     "output_type": "execute_result"
    }
   ],
   "source": [
    "df2.duplicated(subset='vin').sum()"
   ]
  },
  {
   "cell_type": "markdown",
   "id": "fc46f44f",
   "metadata": {},
   "source": [
    "> There are a number of vehicles listed more than once. This may not be an issue with redundant information, as a single vehicle may have been sold multiple times. To investigate this, let's view some of the duplicates & than check if all columns are duplicated:"
   ]
  },
  {
   "cell_type": "code",
   "execution_count": 43,
   "id": "dc90fbc6",
   "metadata": {},
   "outputs": [
    {
     "data": {
      "text/html": [
       "<div>\n",
       "<style scoped>\n",
       "    .dataframe tbody tr th:only-of-type {\n",
       "        vertical-align: middle;\n",
       "    }\n",
       "\n",
       "    .dataframe tbody tr th {\n",
       "        vertical-align: top;\n",
       "    }\n",
       "\n",
       "    .dataframe thead th {\n",
       "        text-align: right;\n",
       "    }\n",
       "</style>\n",
       "<table border=\"1\" class=\"dataframe\">\n",
       "  <thead>\n",
       "    <tr style=\"text-align: right;\">\n",
       "      <th></th>\n",
       "      <th>year</th>\n",
       "      <th>make</th>\n",
       "      <th>model</th>\n",
       "      <th>trim</th>\n",
       "      <th>body</th>\n",
       "      <th>transmission</th>\n",
       "      <th>vin</th>\n",
       "      <th>state</th>\n",
       "      <th>condition</th>\n",
       "      <th>odometer</th>\n",
       "      <th>color</th>\n",
       "      <th>interior</th>\n",
       "      <th>mmr</th>\n",
       "      <th>sellingprice</th>\n",
       "      <th>saledate</th>\n",
       "    </tr>\n",
       "  </thead>\n",
       "  <tbody>\n",
       "    <tr>\n",
       "      <th>178324</th>\n",
       "      <td>2000</td>\n",
       "      <td>Acura</td>\n",
       "      <td>TL</td>\n",
       "      <td>3.2</td>\n",
       "      <td>Sedan</td>\n",
       "      <td>automatic</td>\n",
       "      <td>19uua5663ya022038</td>\n",
       "      <td>fl</td>\n",
       "      <td>1.9</td>\n",
       "      <td>105431.0</td>\n",
       "      <td>gold</td>\n",
       "      <td>tan</td>\n",
       "      <td>2325</td>\n",
       "      <td>1000</td>\n",
       "      <td>2015-01-27 10:00:00-08:00</td>\n",
       "    </tr>\n",
       "    <tr>\n",
       "      <th>31978</th>\n",
       "      <td>2000</td>\n",
       "      <td>Acura</td>\n",
       "      <td>TL</td>\n",
       "      <td>3.2</td>\n",
       "      <td>Sedan</td>\n",
       "      <td>automatic</td>\n",
       "      <td>19uua5663ya022038</td>\n",
       "      <td>fl</td>\n",
       "      <td>1.9</td>\n",
       "      <td>105420.0</td>\n",
       "      <td>gold</td>\n",
       "      <td>beige</td>\n",
       "      <td>2150</td>\n",
       "      <td>1100</td>\n",
       "      <td>2014-12-23 12:15:00-08:00</td>\n",
       "    </tr>\n",
       "    <tr>\n",
       "      <th>128236</th>\n",
       "      <td>2006</td>\n",
       "      <td>Acura</td>\n",
       "      <td>TL</td>\n",
       "      <td>Base</td>\n",
       "      <td>Sedan</td>\n",
       "      <td>manual</td>\n",
       "      <td>19uua65596a059705</td>\n",
       "      <td>nj</td>\n",
       "      <td>2.6</td>\n",
       "      <td>89661.0</td>\n",
       "      <td>white</td>\n",
       "      <td>brown</td>\n",
       "      <td>9025</td>\n",
       "      <td>8200</td>\n",
       "      <td>2015-01-28 01:30:00-08:00</td>\n",
       "    </tr>\n",
       "    <tr>\n",
       "      <th>289231</th>\n",
       "      <td>2006</td>\n",
       "      <td>Acura</td>\n",
       "      <td>TL</td>\n",
       "      <td>Base</td>\n",
       "      <td>Sedan</td>\n",
       "      <td>manual</td>\n",
       "      <td>19uua65596a059705</td>\n",
       "      <td>nj</td>\n",
       "      <td>2.5</td>\n",
       "      <td>89741.0</td>\n",
       "      <td>white</td>\n",
       "      <td>black</td>\n",
       "      <td>9100</td>\n",
       "      <td>8500</td>\n",
       "      <td>2015-03-04 01:30:00-08:00</td>\n",
       "    </tr>\n",
       "    <tr>\n",
       "      <th>150649</th>\n",
       "      <td>2005</td>\n",
       "      <td>Acura</td>\n",
       "      <td>TL</td>\n",
       "      <td>3.2</td>\n",
       "      <td>Sedan</td>\n",
       "      <td>automatic</td>\n",
       "      <td>19uua66215a070166</td>\n",
       "      <td>ca</td>\n",
       "      <td>3.7</td>\n",
       "      <td>131727.0</td>\n",
       "      <td>silver</td>\n",
       "      <td>gray</td>\n",
       "      <td>6600</td>\n",
       "      <td>6900</td>\n",
       "      <td>2015-01-22 04:00:00-08:00</td>\n",
       "    </tr>\n",
       "    <tr>\n",
       "      <th>...</th>\n",
       "      <td>...</td>\n",
       "      <td>...</td>\n",
       "      <td>...</td>\n",
       "      <td>...</td>\n",
       "      <td>...</td>\n",
       "      <td>...</td>\n",
       "      <td>...</td>\n",
       "      <td>...</td>\n",
       "      <td>...</td>\n",
       "      <td>...</td>\n",
       "      <td>...</td>\n",
       "      <td>...</td>\n",
       "      <td>...</td>\n",
       "      <td>...</td>\n",
       "      <td>...</td>\n",
       "    </tr>\n",
       "    <tr>\n",
       "      <th>209261</th>\n",
       "      <td>2006</td>\n",
       "      <td>Maserati</td>\n",
       "      <td>Quattroporte</td>\n",
       "      <td>Base</td>\n",
       "      <td>Sedan</td>\n",
       "      <td>automatic</td>\n",
       "      <td>zamce39a460025306</td>\n",
       "      <td>ca</td>\n",
       "      <td>2.9</td>\n",
       "      <td>92655.0</td>\n",
       "      <td>silver</td>\n",
       "      <td>black</td>\n",
       "      <td>17250</td>\n",
       "      <td>15500</td>\n",
       "      <td>2015-02-04 04:30:00-08:00</td>\n",
       "    </tr>\n",
       "    <tr>\n",
       "      <th>166118</th>\n",
       "      <td>2007</td>\n",
       "      <td>Maserati</td>\n",
       "      <td>Quattroporte</td>\n",
       "      <td>Executive GT DuoSelect</td>\n",
       "      <td>Sedan</td>\n",
       "      <td>automatic</td>\n",
       "      <td>zamce39a470026893</td>\n",
       "      <td>ca</td>\n",
       "      <td>2.7</td>\n",
       "      <td>46087.0</td>\n",
       "      <td>gray</td>\n",
       "      <td>gray</td>\n",
       "      <td>25100</td>\n",
       "      <td>23000</td>\n",
       "      <td>2015-02-10 04:30:00-08:00</td>\n",
       "    </tr>\n",
       "    <tr>\n",
       "      <th>412054</th>\n",
       "      <td>2007</td>\n",
       "      <td>Maserati</td>\n",
       "      <td>Quattroporte</td>\n",
       "      <td>Executive GT DuoSelect</td>\n",
       "      <td>sedan</td>\n",
       "      <td>automatic</td>\n",
       "      <td>zamce39a470026893</td>\n",
       "      <td>ca</td>\n",
       "      <td>3.4</td>\n",
       "      <td>46128.0</td>\n",
       "      <td>gray</td>\n",
       "      <td>gray</td>\n",
       "      <td>26800</td>\n",
       "      <td>23500</td>\n",
       "      <td>2015-06-04 05:30:00-07:00</td>\n",
       "    </tr>\n",
       "    <tr>\n",
       "      <th>101745</th>\n",
       "      <td>2014</td>\n",
       "      <td>FIAT</td>\n",
       "      <td>500L</td>\n",
       "      <td>Easy</td>\n",
       "      <td>Wagon</td>\n",
       "      <td>automatic</td>\n",
       "      <td>zfbcfabh4ez025834</td>\n",
       "      <td>fl</td>\n",
       "      <td>4.0</td>\n",
       "      <td>9435.0</td>\n",
       "      <td>red</td>\n",
       "      <td>gray</td>\n",
       "      <td>12600</td>\n",
       "      <td>10200</td>\n",
       "      <td>2015-02-02 04:30:00-08:00</td>\n",
       "    </tr>\n",
       "    <tr>\n",
       "      <th>350455</th>\n",
       "      <td>2014</td>\n",
       "      <td>FIAT</td>\n",
       "      <td>500L</td>\n",
       "      <td>Easy</td>\n",
       "      <td>Wagon</td>\n",
       "      <td>automatic</td>\n",
       "      <td>zfbcfabh4ez025834</td>\n",
       "      <td>fl</td>\n",
       "      <td>4.7</td>\n",
       "      <td>13513.0</td>\n",
       "      <td>red</td>\n",
       "      <td>black</td>\n",
       "      <td>12300</td>\n",
       "      <td>11500</td>\n",
       "      <td>2015-06-02 02:15:00-07:00</td>\n",
       "    </tr>\n",
       "  </tbody>\n",
       "</table>\n",
       "<p>12978 rows × 15 columns</p>\n",
       "</div>"
      ],
      "text/plain": [
       "        year      make         model                    trim   body  \\\n",
       "178324  2000     Acura            TL                     3.2  Sedan   \n",
       "31978   2000     Acura            TL                     3.2  Sedan   \n",
       "128236  2006     Acura            TL                    Base  Sedan   \n",
       "289231  2006     Acura            TL                    Base  Sedan   \n",
       "150649  2005     Acura            TL                     3.2  Sedan   \n",
       "...      ...       ...           ...                     ...    ...   \n",
       "209261  2006  Maserati  Quattroporte                    Base  Sedan   \n",
       "166118  2007  Maserati  Quattroporte  Executive GT DuoSelect  Sedan   \n",
       "412054  2007  Maserati  Quattroporte  Executive GT DuoSelect  sedan   \n",
       "101745  2014      FIAT          500L                    Easy  Wagon   \n",
       "350455  2014      FIAT          500L                    Easy  Wagon   \n",
       "\n",
       "       transmission                vin state  condition  odometer   color  \\\n",
       "178324    automatic  19uua5663ya022038    fl        1.9  105431.0    gold   \n",
       "31978     automatic  19uua5663ya022038    fl        1.9  105420.0    gold   \n",
       "128236       manual  19uua65596a059705    nj        2.6   89661.0   white   \n",
       "289231       manual  19uua65596a059705    nj        2.5   89741.0   white   \n",
       "150649    automatic  19uua66215a070166    ca        3.7  131727.0  silver   \n",
       "...             ...                ...   ...        ...       ...     ...   \n",
       "209261    automatic  zamce39a460025306    ca        2.9   92655.0  silver   \n",
       "166118    automatic  zamce39a470026893    ca        2.7   46087.0    gray   \n",
       "412054    automatic  zamce39a470026893    ca        3.4   46128.0    gray   \n",
       "101745    automatic  zfbcfabh4ez025834    fl        4.0    9435.0     red   \n",
       "350455    automatic  zfbcfabh4ez025834    fl        4.7   13513.0     red   \n",
       "\n",
       "       interior    mmr  sellingprice                   saledate  \n",
       "178324      tan   2325          1000  2015-01-27 10:00:00-08:00  \n",
       "31978     beige   2150          1100  2014-12-23 12:15:00-08:00  \n",
       "128236    brown   9025          8200  2015-01-28 01:30:00-08:00  \n",
       "289231    black   9100          8500  2015-03-04 01:30:00-08:00  \n",
       "150649     gray   6600          6900  2015-01-22 04:00:00-08:00  \n",
       "...         ...    ...           ...                        ...  \n",
       "209261    black  17250         15500  2015-02-04 04:30:00-08:00  \n",
       "166118     gray  25100         23000  2015-02-10 04:30:00-08:00  \n",
       "412054     gray  26800         23500  2015-06-04 05:30:00-07:00  \n",
       "101745     gray  12600         10200  2015-02-02 04:30:00-08:00  \n",
       "350455    black  12300         11500  2015-06-02 02:15:00-07:00  \n",
       "\n",
       "[12978 rows x 15 columns]"
      ]
     },
     "execution_count": 43,
     "metadata": {},
     "output_type": "execute_result"
    }
   ],
   "source": [
    "df2[df2.duplicated(subset='vin', keep=False)].sort_values(by = 'vin')"
   ]
  },
  {
   "cell_type": "markdown",
   "id": "c941070f",
   "metadata": {},
   "source": [
    "> In the above output we see several examples of rows with identical 'vin's but they are for records of different sales.\n",
    "\n",
    "Let's now check the entire dataframe for rows that are truly duplicated (i.e multiple records for the same sale.):"
   ]
  },
  {
   "cell_type": "code",
   "execution_count": 44,
   "id": "f28a5f9e",
   "metadata": {},
   "outputs": [
    {
     "data": {
      "text/plain": [
       "56"
      ]
     },
     "execution_count": 44,
     "metadata": {},
     "output_type": "execute_result"
    }
   ],
   "source": [
    "df2.duplicated(subset = ['vin', 'saledate']).sum()"
   ]
  },
  {
   "cell_type": "markdown",
   "id": "8c6cef5b",
   "metadata": {},
   "source": [
    "> The above output shows that there are a small number of rows with identical 'vin' & 'saledate'. Let's view a dataframe with those records:"
   ]
  },
  {
   "cell_type": "code",
   "execution_count": 45,
   "id": "262a0196",
   "metadata": {},
   "outputs": [
    {
     "data": {
      "text/html": [
       "<div>\n",
       "<style scoped>\n",
       "    .dataframe tbody tr th:only-of-type {\n",
       "        vertical-align: middle;\n",
       "    }\n",
       "\n",
       "    .dataframe tbody tr th {\n",
       "        vertical-align: top;\n",
       "    }\n",
       "\n",
       "    .dataframe thead th {\n",
       "        text-align: right;\n",
       "    }\n",
       "</style>\n",
       "<table border=\"1\" class=\"dataframe\">\n",
       "  <thead>\n",
       "    <tr style=\"text-align: right;\">\n",
       "      <th></th>\n",
       "      <th>year</th>\n",
       "      <th>make</th>\n",
       "      <th>model</th>\n",
       "      <th>trim</th>\n",
       "      <th>body</th>\n",
       "      <th>transmission</th>\n",
       "      <th>vin</th>\n",
       "      <th>state</th>\n",
       "      <th>condition</th>\n",
       "      <th>odometer</th>\n",
       "      <th>color</th>\n",
       "      <th>interior</th>\n",
       "      <th>mmr</th>\n",
       "      <th>sellingprice</th>\n",
       "      <th>saledate</th>\n",
       "    </tr>\n",
       "  </thead>\n",
       "  <tbody>\n",
       "    <tr>\n",
       "      <th>199574</th>\n",
       "      <td>2012</td>\n",
       "      <td>Honda</td>\n",
       "      <td>Civic</td>\n",
       "      <td>EX-L</td>\n",
       "      <td>Sedan</td>\n",
       "      <td>automatic</td>\n",
       "      <td>19xfb2f97ce313922</td>\n",
       "      <td>md</td>\n",
       "      <td>4.4</td>\n",
       "      <td>68059.0</td>\n",
       "      <td>white</td>\n",
       "      <td>beige</td>\n",
       "      <td>11100</td>\n",
       "      <td>11600</td>\n",
       "      <td>2015-02-03 01:30:00-08:00</td>\n",
       "    </tr>\n",
       "    <tr>\n",
       "      <th>26380</th>\n",
       "      <td>2012</td>\n",
       "      <td>Honda</td>\n",
       "      <td>Civic</td>\n",
       "      <td>EX-L</td>\n",
       "      <td>Sedan</td>\n",
       "      <td>automatic</td>\n",
       "      <td>19xfb2f97ce313922</td>\n",
       "      <td>md</td>\n",
       "      <td>4.0</td>\n",
       "      <td>1.0</td>\n",
       "      <td>white</td>\n",
       "      <td>beige</td>\n",
       "      <td>14150</td>\n",
       "      <td>3900</td>\n",
       "      <td>2015-02-03 01:30:00-08:00</td>\n",
       "    </tr>\n",
       "    <tr>\n",
       "      <th>12625</th>\n",
       "      <td>2007</td>\n",
       "      <td>Dodge</td>\n",
       "      <td>Caliber</td>\n",
       "      <td>SXT</td>\n",
       "      <td>Wagon</td>\n",
       "      <td>automatic</td>\n",
       "      <td>1b3hb48bx7d113596</td>\n",
       "      <td>ga</td>\n",
       "      <td>2.0</td>\n",
       "      <td>1.0</td>\n",
       "      <td>red</td>\n",
       "      <td>gray</td>\n",
       "      <td>5100</td>\n",
       "      <td>2300</td>\n",
       "      <td>2015-01-22 04:30:00-08:00</td>\n",
       "    </tr>\n",
       "    <tr>\n",
       "      <th>150018</th>\n",
       "      <td>2007</td>\n",
       "      <td>Dodge</td>\n",
       "      <td>Caliber</td>\n",
       "      <td>SXT</td>\n",
       "      <td>Wagon</td>\n",
       "      <td>automatic</td>\n",
       "      <td>1b3hb48bx7d113596</td>\n",
       "      <td>ga</td>\n",
       "      <td>2.0</td>\n",
       "      <td>326716.0</td>\n",
       "      <td>red</td>\n",
       "      <td>gray</td>\n",
       "      <td>1175</td>\n",
       "      <td>900</td>\n",
       "      <td>2015-01-22 04:30:00-08:00</td>\n",
       "    </tr>\n",
       "    <tr>\n",
       "      <th>151411</th>\n",
       "      <td>2001</td>\n",
       "      <td>Dodge</td>\n",
       "      <td>Dakota</td>\n",
       "      <td>Base</td>\n",
       "      <td>Club Cab</td>\n",
       "      <td>automatic</td>\n",
       "      <td>1b7gg22n01s348630</td>\n",
       "      <td>az</td>\n",
       "      <td>1.0</td>\n",
       "      <td>140318.0</td>\n",
       "      <td>black</td>\n",
       "      <td>black</td>\n",
       "      <td>1600</td>\n",
       "      <td>2200</td>\n",
       "      <td>2015-01-22 03:00:00-08:00</td>\n",
       "    </tr>\n",
       "    <tr>\n",
       "      <th>...</th>\n",
       "      <td>...</td>\n",
       "      <td>...</td>\n",
       "      <td>...</td>\n",
       "      <td>...</td>\n",
       "      <td>...</td>\n",
       "      <td>...</td>\n",
       "      <td>...</td>\n",
       "      <td>...</td>\n",
       "      <td>...</td>\n",
       "      <td>...</td>\n",
       "      <td>...</td>\n",
       "      <td>...</td>\n",
       "      <td>...</td>\n",
       "      <td>...</td>\n",
       "      <td>...</td>\n",
       "    </tr>\n",
       "    <tr>\n",
       "      <th>472314</th>\n",
       "      <td>2008</td>\n",
       "      <td>BMW</td>\n",
       "      <td>1 Series</td>\n",
       "      <td>135i</td>\n",
       "      <td>Convertible</td>\n",
       "      <td>automatic</td>\n",
       "      <td>wbaun93588vf56134</td>\n",
       "      <td>ca</td>\n",
       "      <td>3.3</td>\n",
       "      <td>96344.0</td>\n",
       "      <td>red</td>\n",
       "      <td>black</td>\n",
       "      <td>12500</td>\n",
       "      <td>13000</td>\n",
       "      <td>2015-07-08 09:30:00-07:00</td>\n",
       "    </tr>\n",
       "    <tr>\n",
       "      <th>102673</th>\n",
       "      <td>2003</td>\n",
       "      <td>Mercedes-Benz</td>\n",
       "      <td>E-Class</td>\n",
       "      <td>E500</td>\n",
       "      <td>Sedan</td>\n",
       "      <td>automatic</td>\n",
       "      <td>wdbuf70j23a235692</td>\n",
       "      <td>nc</td>\n",
       "      <td>1.3</td>\n",
       "      <td>146913.0</td>\n",
       "      <td>black</td>\n",
       "      <td>tan</td>\n",
       "      <td>4375</td>\n",
       "      <td>2800</td>\n",
       "      <td>2015-01-13 09:15:00-08:00</td>\n",
       "    </tr>\n",
       "    <tr>\n",
       "      <th>16429</th>\n",
       "      <td>2003</td>\n",
       "      <td>Mercedes-Benz</td>\n",
       "      <td>E-Class</td>\n",
       "      <td>E500</td>\n",
       "      <td>Sedan</td>\n",
       "      <td>automatic</td>\n",
       "      <td>wdbuf70j23a235692</td>\n",
       "      <td>nc</td>\n",
       "      <td>1.2</td>\n",
       "      <td>1.0</td>\n",
       "      <td>black</td>\n",
       "      <td>tan</td>\n",
       "      <td>7225</td>\n",
       "      <td>2000</td>\n",
       "      <td>2015-01-13 09:15:00-08:00</td>\n",
       "    </tr>\n",
       "    <tr>\n",
       "      <th>280622</th>\n",
       "      <td>2007</td>\n",
       "      <td>Mercedes-Benz</td>\n",
       "      <td>CLS-Class</td>\n",
       "      <td>CLS550</td>\n",
       "      <td>Sedan</td>\n",
       "      <td>automatic</td>\n",
       "      <td>wdddj72x27a080493</td>\n",
       "      <td>mo</td>\n",
       "      <td>2.1</td>\n",
       "      <td>79869.0</td>\n",
       "      <td>gray</td>\n",
       "      <td>black</td>\n",
       "      <td>15400</td>\n",
       "      <td>17000</td>\n",
       "      <td>2015-07-08 07:30:00-07:00</td>\n",
       "    </tr>\n",
       "    <tr>\n",
       "      <th>201904</th>\n",
       "      <td>2007</td>\n",
       "      <td>Mercedes-Benz</td>\n",
       "      <td>CLS-Class</td>\n",
       "      <td>CLS550</td>\n",
       "      <td>Sedan</td>\n",
       "      <td>automatic</td>\n",
       "      <td>wdddj72x27a080493</td>\n",
       "      <td>mo</td>\n",
       "      <td>2.1</td>\n",
       "      <td>79869.0</td>\n",
       "      <td>gray</td>\n",
       "      <td>black</td>\n",
       "      <td>15400</td>\n",
       "      <td>15800</td>\n",
       "      <td>2015-07-08 07:30:00-07:00</td>\n",
       "    </tr>\n",
       "  </tbody>\n",
       "</table>\n",
       "<p>112 rows × 15 columns</p>\n",
       "</div>"
      ],
      "text/plain": [
       "        year           make      model    trim         body transmission  \\\n",
       "199574  2012          Honda      Civic    EX-L        Sedan    automatic   \n",
       "26380   2012          Honda      Civic    EX-L        Sedan    automatic   \n",
       "12625   2007          Dodge    Caliber     SXT        Wagon    automatic   \n",
       "150018  2007          Dodge    Caliber     SXT        Wagon    automatic   \n",
       "151411  2001          Dodge     Dakota    Base     Club Cab    automatic   \n",
       "...      ...            ...        ...     ...          ...          ...   \n",
       "472314  2008            BMW   1 Series    135i  Convertible    automatic   \n",
       "102673  2003  Mercedes-Benz    E-Class    E500        Sedan    automatic   \n",
       "16429   2003  Mercedes-Benz    E-Class    E500        Sedan    automatic   \n",
       "280622  2007  Mercedes-Benz  CLS-Class  CLS550        Sedan    automatic   \n",
       "201904  2007  Mercedes-Benz  CLS-Class  CLS550        Sedan    automatic   \n",
       "\n",
       "                      vin state  condition  odometer  color interior    mmr  \\\n",
       "199574  19xfb2f97ce313922    md        4.4   68059.0  white    beige  11100   \n",
       "26380   19xfb2f97ce313922    md        4.0       1.0  white    beige  14150   \n",
       "12625   1b3hb48bx7d113596    ga        2.0       1.0    red     gray   5100   \n",
       "150018  1b3hb48bx7d113596    ga        2.0  326716.0    red     gray   1175   \n",
       "151411  1b7gg22n01s348630    az        1.0  140318.0  black    black   1600   \n",
       "...                   ...   ...        ...       ...    ...      ...    ...   \n",
       "472314  wbaun93588vf56134    ca        3.3   96344.0    red    black  12500   \n",
       "102673  wdbuf70j23a235692    nc        1.3  146913.0  black      tan   4375   \n",
       "16429   wdbuf70j23a235692    nc        1.2       1.0  black      tan   7225   \n",
       "280622  wdddj72x27a080493    mo        2.1   79869.0   gray    black  15400   \n",
       "201904  wdddj72x27a080493    mo        2.1   79869.0   gray    black  15400   \n",
       "\n",
       "        sellingprice                   saledate  \n",
       "199574         11600  2015-02-03 01:30:00-08:00  \n",
       "26380           3900  2015-02-03 01:30:00-08:00  \n",
       "12625           2300  2015-01-22 04:30:00-08:00  \n",
       "150018           900  2015-01-22 04:30:00-08:00  \n",
       "151411          2200  2015-01-22 03:00:00-08:00  \n",
       "...              ...                        ...  \n",
       "472314         13000  2015-07-08 09:30:00-07:00  \n",
       "102673          2800  2015-01-13 09:15:00-08:00  \n",
       "16429           2000  2015-01-13 09:15:00-08:00  \n",
       "280622         17000  2015-07-08 07:30:00-07:00  \n",
       "201904         15800  2015-07-08 07:30:00-07:00  \n",
       "\n",
       "[112 rows x 15 columns]"
      ]
     },
     "execution_count": 45,
     "metadata": {},
     "output_type": "execute_result"
    }
   ],
   "source": [
    "df2[df2.duplicated(subset = ['vin', 'saledate'], keep= False)].sort_values('vin')"
   ]
  },
  {
   "cell_type": "markdown",
   "id": "6cc84c22",
   "metadata": {},
   "source": [
    "> Several unexpected values are present in the above dataframe: some rows describe an identical sale, but with different values for some of the columns. Some of them appear to be errors, as one of the rows have '1.0' as the record for the odometer but another row for the same vehicle/sale has a number better aligned with what one would expect for a vehicle several years old.\n",
    "\n",
    "Let's proceed by dropping rows with '1.0' as odometer value:"
   ]
  },
  {
   "cell_type": "code",
   "execution_count": 46,
   "id": "c4e9390a",
   "metadata": {},
   "outputs": [
    {
     "data": {
      "text/plain": [
       "Index([  3306,  12625,  14712,  16429,  26380,  28926,  30611,  39281,  40540,\n",
       "        41485,\n",
       "       ...\n",
       "       408840, 411514, 411971, 418486, 441853, 452492, 461611, 466361, 471252,\n",
       "       472314],\n",
       "      dtype='int64', length=112)"
      ]
     },
     "execution_count": 46,
     "metadata": {},
     "output_type": "execute_result"
    }
   ],
   "source": [
    "df2[df2.duplicated(subset = ['vin', 'saledate'], keep= False)].index"
   ]
  },
  {
   "cell_type": "code",
   "execution_count": null,
   "id": "deec72bc",
   "metadata": {},
   "outputs": [],
   "source": [
    "odo_1 = "
   ]
  },
  {
   "cell_type": "code",
   "execution_count": 30,
   "id": "8ac7088e",
   "metadata": {
    "collapsed": true
   },
   "outputs": [
    {
     "data": {
      "text/html": [
       "<div>\n",
       "<style scoped>\n",
       "    .dataframe tbody tr th:only-of-type {\n",
       "        vertical-align: middle;\n",
       "    }\n",
       "\n",
       "    .dataframe tbody tr th {\n",
       "        vertical-align: top;\n",
       "    }\n",
       "\n",
       "    .dataframe thead th {\n",
       "        text-align: right;\n",
       "    }\n",
       "</style>\n",
       "<table border=\"1\" class=\"dataframe\">\n",
       "  <thead>\n",
       "    <tr style=\"text-align: right;\">\n",
       "      <th></th>\n",
       "      <th>index</th>\n",
       "      <th>year</th>\n",
       "      <th>make</th>\n",
       "      <th>model</th>\n",
       "      <th>trim</th>\n",
       "      <th>body</th>\n",
       "      <th>transmission</th>\n",
       "      <th>vin</th>\n",
       "      <th>state</th>\n",
       "      <th>condition</th>\n",
       "      <th>odometer</th>\n",
       "      <th>color</th>\n",
       "      <th>interior</th>\n",
       "      <th>mmr</th>\n",
       "      <th>sellingprice</th>\n",
       "      <th>saledate</th>\n",
       "    </tr>\n",
       "  </thead>\n",
       "  <tbody>\n",
       "    <tr>\n",
       "      <th>0</th>\n",
       "      <td>0</td>\n",
       "      <td>2015</td>\n",
       "      <td>Kia</td>\n",
       "      <td>Sorento</td>\n",
       "      <td>LX</td>\n",
       "      <td>SUV</td>\n",
       "      <td>automatic</td>\n",
       "      <td>5xyktca69fg566472</td>\n",
       "      <td>ca</td>\n",
       "      <td>5.0</td>\n",
       "      <td>16639.0</td>\n",
       "      <td>white</td>\n",
       "      <td>black</td>\n",
       "      <td>20500</td>\n",
       "      <td>21500</td>\n",
       "      <td>2014-12-16 12:30:00-08:00</td>\n",
       "    </tr>\n",
       "    <tr>\n",
       "      <th>1</th>\n",
       "      <td>1</td>\n",
       "      <td>2015</td>\n",
       "      <td>Kia</td>\n",
       "      <td>Sorento</td>\n",
       "      <td>LX</td>\n",
       "      <td>SUV</td>\n",
       "      <td>automatic</td>\n",
       "      <td>5xyktca69fg561319</td>\n",
       "      <td>ca</td>\n",
       "      <td>5.0</td>\n",
       "      <td>9393.0</td>\n",
       "      <td>white</td>\n",
       "      <td>beige</td>\n",
       "      <td>20800</td>\n",
       "      <td>21500</td>\n",
       "      <td>2014-12-16 12:30:00-08:00</td>\n",
       "    </tr>\n",
       "    <tr>\n",
       "      <th>2</th>\n",
       "      <td>2</td>\n",
       "      <td>2014</td>\n",
       "      <td>BMW</td>\n",
       "      <td>3 Series</td>\n",
       "      <td>328i SULEV</td>\n",
       "      <td>Sedan</td>\n",
       "      <td>automatic</td>\n",
       "      <td>wba3c1c51ek116351</td>\n",
       "      <td>ca</td>\n",
       "      <td>4.5</td>\n",
       "      <td>1331.0</td>\n",
       "      <td>gray</td>\n",
       "      <td>black</td>\n",
       "      <td>31900</td>\n",
       "      <td>30000</td>\n",
       "      <td>2015-01-15 04:30:00-08:00</td>\n",
       "    </tr>\n",
       "    <tr>\n",
       "      <th>3</th>\n",
       "      <td>3</td>\n",
       "      <td>2015</td>\n",
       "      <td>Volvo</td>\n",
       "      <td>S60</td>\n",
       "      <td>T5</td>\n",
       "      <td>Sedan</td>\n",
       "      <td>automatic</td>\n",
       "      <td>yv1612tb4f1310987</td>\n",
       "      <td>ca</td>\n",
       "      <td>4.1</td>\n",
       "      <td>14282.0</td>\n",
       "      <td>white</td>\n",
       "      <td>black</td>\n",
       "      <td>27500</td>\n",
       "      <td>27750</td>\n",
       "      <td>2015-01-29 04:30:00-08:00</td>\n",
       "    </tr>\n",
       "    <tr>\n",
       "      <th>4</th>\n",
       "      <td>4</td>\n",
       "      <td>2014</td>\n",
       "      <td>BMW</td>\n",
       "      <td>6 Series Gran Coupe</td>\n",
       "      <td>650i</td>\n",
       "      <td>Sedan</td>\n",
       "      <td>automatic</td>\n",
       "      <td>wba6b2c57ed129731</td>\n",
       "      <td>ca</td>\n",
       "      <td>4.3</td>\n",
       "      <td>2641.0</td>\n",
       "      <td>gray</td>\n",
       "      <td>black</td>\n",
       "      <td>66000</td>\n",
       "      <td>67000</td>\n",
       "      <td>2014-12-18 12:30:00-08:00</td>\n",
       "    </tr>\n",
       "    <tr>\n",
       "      <th>...</th>\n",
       "      <td>...</td>\n",
       "      <td>...</td>\n",
       "      <td>...</td>\n",
       "      <td>...</td>\n",
       "      <td>...</td>\n",
       "      <td>...</td>\n",
       "      <td>...</td>\n",
       "      <td>...</td>\n",
       "      <td>...</td>\n",
       "      <td>...</td>\n",
       "      <td>...</td>\n",
       "      <td>...</td>\n",
       "      <td>...</td>\n",
       "      <td>...</td>\n",
       "      <td>...</td>\n",
       "      <td>...</td>\n",
       "    </tr>\n",
       "    <tr>\n",
       "      <th>472331</th>\n",
       "      <td>558805</td>\n",
       "      <td>2011</td>\n",
       "      <td>BMW</td>\n",
       "      <td>5 Series</td>\n",
       "      <td>528i</td>\n",
       "      <td>Sedan</td>\n",
       "      <td>automatic</td>\n",
       "      <td>wbafr1c53bc744672</td>\n",
       "      <td>fl</td>\n",
       "      <td>3.9</td>\n",
       "      <td>66403.0</td>\n",
       "      <td>white</td>\n",
       "      <td>brown</td>\n",
       "      <td>20300</td>\n",
       "      <td>22800</td>\n",
       "      <td>2015-07-07 06:15:00-07:00</td>\n",
       "    </tr>\n",
       "    <tr>\n",
       "      <th>472332</th>\n",
       "      <td>558807</td>\n",
       "      <td>2012</td>\n",
       "      <td>Ram</td>\n",
       "      <td>2500</td>\n",
       "      <td>Power Wagon</td>\n",
       "      <td>Crew Cab</td>\n",
       "      <td>automatic</td>\n",
       "      <td>3c6td5et6cg112407</td>\n",
       "      <td>wa</td>\n",
       "      <td>5.0</td>\n",
       "      <td>54393.0</td>\n",
       "      <td>white</td>\n",
       "      <td>black</td>\n",
       "      <td>30200</td>\n",
       "      <td>30800</td>\n",
       "      <td>2015-07-08 09:30:00-07:00</td>\n",
       "    </tr>\n",
       "    <tr>\n",
       "      <th>472333</th>\n",
       "      <td>558808</td>\n",
       "      <td>2012</td>\n",
       "      <td>BMW</td>\n",
       "      <td>X5</td>\n",
       "      <td>xDrive35d</td>\n",
       "      <td>SUV</td>\n",
       "      <td>automatic</td>\n",
       "      <td>5uxzw0c58cl668465</td>\n",
       "      <td>ca</td>\n",
       "      <td>4.8</td>\n",
       "      <td>50561.0</td>\n",
       "      <td>black</td>\n",
       "      <td>black</td>\n",
       "      <td>29800</td>\n",
       "      <td>34000</td>\n",
       "      <td>2015-07-08 09:30:00-07:00</td>\n",
       "    </tr>\n",
       "    <tr>\n",
       "      <th>472334</th>\n",
       "      <td>558809</td>\n",
       "      <td>2015</td>\n",
       "      <td>Nissan</td>\n",
       "      <td>Altima</td>\n",
       "      <td>2.5 S</td>\n",
       "      <td>sedan</td>\n",
       "      <td>automatic</td>\n",
       "      <td>1n4al3ap0fc216050</td>\n",
       "      <td>ga</td>\n",
       "      <td>3.8</td>\n",
       "      <td>16658.0</td>\n",
       "      <td>white</td>\n",
       "      <td>black</td>\n",
       "      <td>15100</td>\n",
       "      <td>11100</td>\n",
       "      <td>2015-07-09 06:45:00-07:00</td>\n",
       "    </tr>\n",
       "    <tr>\n",
       "      <th>472335</th>\n",
       "      <td>558810</td>\n",
       "      <td>2014</td>\n",
       "      <td>Ford</td>\n",
       "      <td>F-150</td>\n",
       "      <td>XLT</td>\n",
       "      <td>SuperCrew</td>\n",
       "      <td>automatic</td>\n",
       "      <td>1ftfw1et2eke87277</td>\n",
       "      <td>ca</td>\n",
       "      <td>3.4</td>\n",
       "      <td>15008.0</td>\n",
       "      <td>gray</td>\n",
       "      <td>gray</td>\n",
       "      <td>29600</td>\n",
       "      <td>26700</td>\n",
       "      <td>2015-05-28 05:30:00-07:00</td>\n",
       "    </tr>\n",
       "  </tbody>\n",
       "</table>\n",
       "<p>472224 rows × 16 columns</p>\n",
       "</div>"
      ],
      "text/plain": [
       "         index  year    make                model         trim       body  \\\n",
       "0            0  2015     Kia              Sorento           LX        SUV   \n",
       "1            1  2015     Kia              Sorento           LX        SUV   \n",
       "2            2  2014     BMW             3 Series   328i SULEV      Sedan   \n",
       "3            3  2015   Volvo                  S60           T5      Sedan   \n",
       "4            4  2014     BMW  6 Series Gran Coupe         650i      Sedan   \n",
       "...        ...   ...     ...                  ...          ...        ...   \n",
       "472331  558805  2011     BMW             5 Series         528i      Sedan   \n",
       "472332  558807  2012     Ram                 2500  Power Wagon   Crew Cab   \n",
       "472333  558808  2012     BMW                   X5    xDrive35d        SUV   \n",
       "472334  558809  2015  Nissan               Altima        2.5 S      sedan   \n",
       "472335  558810  2014    Ford                F-150          XLT  SuperCrew   \n",
       "\n",
       "       transmission                vin state  condition  odometer  color  \\\n",
       "0         automatic  5xyktca69fg566472    ca        5.0   16639.0  white   \n",
       "1         automatic  5xyktca69fg561319    ca        5.0    9393.0  white   \n",
       "2         automatic  wba3c1c51ek116351    ca        4.5    1331.0   gray   \n",
       "3         automatic  yv1612tb4f1310987    ca        4.1   14282.0  white   \n",
       "4         automatic  wba6b2c57ed129731    ca        4.3    2641.0   gray   \n",
       "...             ...                ...   ...        ...       ...    ...   \n",
       "472331    automatic  wbafr1c53bc744672    fl        3.9   66403.0  white   \n",
       "472332    automatic  3c6td5et6cg112407    wa        5.0   54393.0  white   \n",
       "472333    automatic  5uxzw0c58cl668465    ca        4.8   50561.0  black   \n",
       "472334    automatic  1n4al3ap0fc216050    ga        3.8   16658.0  white   \n",
       "472335    automatic  1ftfw1et2eke87277    ca        3.4   15008.0   gray   \n",
       "\n",
       "       interior    mmr  sellingprice                   saledate  \n",
       "0         black  20500         21500  2014-12-16 12:30:00-08:00  \n",
       "1         beige  20800         21500  2014-12-16 12:30:00-08:00  \n",
       "2         black  31900         30000  2015-01-15 04:30:00-08:00  \n",
       "3         black  27500         27750  2015-01-29 04:30:00-08:00  \n",
       "4         black  66000         67000  2014-12-18 12:30:00-08:00  \n",
       "...         ...    ...           ...                        ...  \n",
       "472331    brown  20300         22800  2015-07-07 06:15:00-07:00  \n",
       "472332    black  30200         30800  2015-07-08 09:30:00-07:00  \n",
       "472333    black  29800         34000  2015-07-08 09:30:00-07:00  \n",
       "472334    black  15100         11100  2015-07-09 06:45:00-07:00  \n",
       "472335     gray  29600         26700  2015-05-28 05:30:00-07:00  \n",
       "\n",
       "[472224 rows x 16 columns]"
      ]
     },
     "execution_count": 30,
     "metadata": {},
     "output_type": "execute_result"
    }
   ],
   "source": [
    "df2.drop(df2[df2.duplicated(subset = ['vin', 'saledate'], keep= False)].index)"
   ]
  }
 ],
 "metadata": {
  "kernelspec": {
   "display_name": "Python 3 (ipykernel)",
   "language": "python",
   "name": "python3"
  },
  "language_info": {
   "codemirror_mode": {
    "name": "ipython",
    "version": 3
   },
   "file_extension": ".py",
   "mimetype": "text/x-python",
   "name": "python",
   "nbconvert_exporter": "python",
   "pygments_lexer": "ipython3",
   "version": "3.11.5"
  }
 },
 "nbformat": 4,
 "nbformat_minor": 5
}
